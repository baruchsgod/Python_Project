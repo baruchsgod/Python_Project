{
 "cells": [
  {
   "cell_type": "markdown",
   "id": "3bb94fde-fc05-481d-8b62-7af64eb51617",
   "metadata": {},
   "source": [
    "\n",
    "<div align=\"center\" margin=\"auto\"><b><font face = \"Arial\"><h2 style=\"color:#395B64;\">Criptomonedas como tecnología e implementacion de estrategias</h2></font></b><div>\n",
    "      <br/>\n",
    "      <div margin=\"auto\"><img src=\"Bitcoin.webp\" width=\"100\" margin=\"auto\"><div>\n",
    "      <div>\n",
    "        <font face = \"Arial\">\n",
    "          <table align=\"center\" style=\"padding: 15px; margin-top: 50px\" cellspacing=\"10px\" te>\n",
    "            <thead>\n",
    "              <tr style=\"text-align:left;\">\n",
    "                <th style=\"text-align:left; font-size: medium;\">Objetivos</th>\n",
    "                <th style=\"text-align:center; font-size: medium;\">Descripción</th>\n",
    "              </tr>\n",
    "            </thead>\n",
    "            <tbody>\n",
    "              <tr bgcolor=\"#F7ECDE\" >\n",
    "                <td style=\"text-align:left; font-size: medium;\">Objetivo General</td>\n",
    "                <td style=\"text-align:left; font-size: medium;\">Analizar el impacto de las criptomonedas como tecnologia en nuestra sociedad y el intercambio de las mismas por medio de algoritmos</td>\n",
    "              </tr>\n",
    "              <tr bgcolor=\"#F7ECDE\">\n",
    "                <td style=\"text-align:left; font-size: medium;\">Objetivos Específicos</td>\n",
    "                <td style=\"text-align:left; font-size: medium;\">Explicar la tecnología de las criptomonedas\n",
    "                  </br>\n",
    "                  </br>\n",
    "                    Preguntas:\n",
    "                  </br>\n",
    "                    <ul>\n",
    "                      <li>Que son las criptomonedas?</li>\n",
    "                      <li>Que tecnología hace posible el uso de las criptomonedas?</li>\n",
    "                      <li>Que plataformas actualmente permiten el intercambio de las criptomonedas?</li>\n",
    "                    </ul>\n",
    "                </td>\n",
    "              </tr>\n",
    "              <tr bgcolor=\"#E9DAC1\">\n",
    "                <td bgcolor=\"white\"></td>\n",
    "                <td style=\"text-align:left; font-size: medium;\">Investigar la correlación entre seguridad y ética y los avances tecnológicos\n",
    "                  </br>\n",
    "                  </br>\n",
    "                    Preguntas:\n",
    "                  </br>\n",
    "                    <ul>\n",
    "                    <li>Tienen las nuevas tecnologias un desface con respecto a los controles y medidas de seguridad que buscan mitigar el impacto social y el riesgo de las mismas?</li>\n",
    "                  </ul> \n",
    "                </td>\n",
    "              </tr>\n",
    "              <tr bgcolor=\"#F7ECDE\">\n",
    "                <td bgcolor=\"white\"></td>\n",
    "                <td style=\"text-align:left; font-size: medium;\">Analizar los riesgos asociados a la tecnología de las criptomonedas\n",
    "                  </br>\n",
    "                  </br>\n",
    "                    Preguntas:\n",
    "                  </br>\n",
    "                    <ul>\n",
    "                    <li>Cuales son los riesgos implicitos debido al estado actual de la tecnologia de las criptomonedas?</li>\n",
    "                    </ul>\n",
    "                </td>\n",
    "              </tr>\n",
    "              <tr bgcolor=\"#E9DAC1\">\n",
    "                <td bgcolor=\"white\"></td>\n",
    "                <td style=\"text-align:left; font-size: medium;\">Examinar el marco regulatorio que actualmente rige la tecnología de las criptomonedas\n",
    "                  </br>\n",
    "                  </br>\n",
    "                    Preguntas:\n",
    "                  </br>\n",
    "                    <ul>\n",
    "                    <li>Existe actualmente un marco legislativo sobre la tecnologia de las criptomonedas?</li>\n",
    "                    </ul>\n",
    "                </td>\n",
    "              </tr>\n",
    "              <tr bgcolor=\"#F7ECDE\">\n",
    "                <td bgcolor=\"white\"></td>\n",
    "                <td style=\"text-align:left; font-size: medium;\">Desarrollar una estrategia de inversión automatizada por medio de Python\n",
    "                  </br>\n",
    "                  </br>\n",
    "                    Preguntas:\n",
    "                  </br>\n",
    "                    <ul>\n",
    "                    <li>Existe algun patron extraible entre la relacion de retorno y volumen transada diariamente en una frecuencia de 5m para un activo dado?</li>\n",
    "                    </ul>\n",
    "                </td>\n",
    "              </tr>\n",
    "            </tbody> \n",
    "          </table>\n",
    "        </font>\n",
    "      </div>\n"
   ]
  },
  {
   "cell_type": "markdown",
   "id": "1ed7c302",
   "metadata": {},
   "source": [
    "<!-- ESTA SECCION EXPLICA EL PRIMER OBJETIVO ESPECIFICO SOBRE LA TECNOLOGIA DE CRIPTOMONEDAS -->\n",
    "\n",
    "<div style=\"margin-left: 25px; text-align: left; font-size: large;\" >\n",
    "    <font face=\"Arial\" style=\"font-size: large;\">\n",
    "      <table align=\"center\" style=\"text-align: left;\">\n",
    "        <thead>\n",
    "          <th style=\"text-align: center; font-size: medium;\"><h2 style=\"color:#395B64;\">Que son las criptomonedas?</h2></th>\n",
    "        </thead>\n",
    "        <tbody>\n",
    "          <tr bgcolor=\"#F7ECDE\">\n",
    "            <td style=\"text-align: left; font-size: medium;line-height: 30px;\">La tecnología ha ido evolucionando con el paso de tiempo, permitiendo dentro de los beneficios que esto brinda, generar nuevas opciones de expansión mercantil y permitir\n",
    "                nuevas maneras de especulación financiera y también formas de procesamiento de transacciones en línea aunado a las estructuras tecnológicas que hacen posible dichos escenarios. Una \n",
    "                de las más recientes opciones para procesamiento de transacciones con dinero en línea y forma de especulación financiera son las criptomonedas, que básicamente son una moneda digital\n",
    "                que permite realizar pagos por medio de la criptografía, la cual se utiliza para asegurar las transacciones. Este sistema no se apoya en bancos para poder realizar las transacciones\n",
    "                o emitir unidades nuevas, y por el contrario es un método descentralizado, ya que no posee una entidad emisora o reguladora central, lo que teóricamente las hace inmunes a la interferencia o manipulación por parte del gobierno . La criptografía posee la característica agregada \n",
    "                de que hace casi imposible la falsificación o el doble gasto, como se explicara más adelante en el proyecto, por medio de una tecnología llamada \"Blockchain\", que esencialmente es un \n",
    "                libro mayor distribuido impuesto por una amplia red dispar de computadoras, como se explica en\n",
    "                <a href=\"https://www.investopedia.com/terms/c/cryptocurrency.asp#:~:text=Investopedia%20%2F%20Tara%20Anand-,What%20Is%20Cryptocurrency%3F,a%20disparate%20network%20of%20computers.\">\n",
    "                Investopedia </a>. \n",
    "                </br>\n",
    "                </br>   \n",
    "                Principales características: \n",
    "                    <ul>\n",
    "                      <li>Las criptomonedas son una activo digital que está distribuido a través de una amplia red de computadoras.</li>\n",
    "                      <li>Es una estructura descentralizada y por ende no existe control gubernamental.</li>\n",
    "                      <li>Se cree que la tecnología \"Blockchain\" cambiara la manera de operar en el área financiera y de leyes</li>\n",
    "                      <li>Dentro de las ventajas a grandes rasgos se prevén transferencias más baratas y rápidas y un sistema que no colapsará en un solo punto de falla</li>\n",
    "                      <li>Dentro de las desventajas se incluye volatilidad en los precios, un alto consumo de energía por el \"mining\" de la red y actividades criminales junto con \n",
    "                        poca regulación. \n",
    "                      </li>\n",
    "                    </ul>\n",
    "                </br>\n",
    "                </br>  \n",
    "                Cripto, hace referencia a los algoritmos que se utilizan para encriptar y resguardar estas transacciones, y \n",
    "                algunas de ellas son encriptación en curva elíptica, pares de llaves privado-públicas y funciones de \"hashing\".\n",
    "                </br>\n",
    "                \"El cifrado en sí mismo, cuando se trata de blockchain, se encuentra en las matemáticas detrás de la red minera. El cifrado es el proceso de convertir información o datos en un código, especialmente para evitar el acceso no autorizado. El cifrado utiliza más técnicas matemáticas junto con contraseñas y claves utilizadas para descifrar la información y depende en gran medida de un algoritmo para hacer que la información original sea ilegible.\" <a href=\"https://daglar-cizmeci.com/blockchain-encryption/#:~:text=Blockchain%20encryption%20is%20the%20prevention,must%20be%20very%20much%20protected.\">(daglar-cizmeci, 2021)\n",
    "</a>\n",
    "</br>\n",
    "</br>\n",
    "Fue hasta el 2009 que se creó la primera criptomoneda descentralizada, la cual fue Bitcoin, a pesar de que la idea de dinero digital criptográfico fue postulada hace bastante tiempo. Al final del año 2013, habían alrededor de 50 tipos de criptomonedas, para el final del 2014 cerca de 500, y hoy contamos con más de 20,000 de estas monedas digitales, sin embargo, no todos están en existencia e incluso algunos de ellos no están activos o son valuables, lo cual nos deja con alrededor 10900 activos, como se puede apreciar en el gráfico expuesto en <a href=\"https://explodingtopics.com/blog/number-of-cryptocurrencies\">explodingtopics.com</a>:\n",
    "</br>\n",
    "<div margin=\"right\"><img src=\"cryptotendency.webp\" width=\"700\" margin=\"auto\"><div>\n",
    "</br>\n",
    "Algunas estadísticas de las criptomonedas:\n",
    "</br>\n",
    "<ul>\n",
    "  <li>Hay un total de más de 20,000 criptomonedas.</li>\n",
    "  <li>El valor de mercado aproximado de estas criptomonedas es alrededor de 1,025 trillones de dólares.</li>\n",
    "  <li>El volumen de transacciones cada 24 horas es alrededor de 107 billones de dólares.</li>\n",
    "  <li>Bitcoin tiene la mayor capitalización de mercado con 461 billones dólares al día 15 de Agosto.</li>\n",
    "  <li>Aproximadamente un 8% de la población de Estados Unidos intercambia criptomonedas</li>\n",
    "</ul>\n",
    "</br>\n",
    "Existen múltiples plataformas donde podemos encontrar información financiera, indicadores y gráficos informativos sobre los distintos activos, una de ellas es coinmarketcap:\n",
    "</br>\n",
    "<div margin=\"auto\"><img src=\"CoinMarketCap.JPG\" width=\"900\" margin=\"auto\"><div>\n",
    "            </td>\n",
    "          </tr>\n",
    "        </tbody>\n",
    "      </table>\n",
    "    </font>\n",
    "  </div>"
   ]
  },
  {
   "cell_type": "markdown",
   "id": "04d27f00",
   "metadata": {},
   "source": [
    "<!-- # ESTA SECCION SE HABLARA ACERCA DE BLOCKCHAIN -->\n",
    "\n",
    "<div style=\"margin-left: 25px; text-align: left; font-size: large; margin-top: 50px;\" >\n",
    "        <font face=\"Arial\" style=\"font-size: large;\">\n",
    "          <table align=\"center\" style=\"text-align: left;\">\n",
    "            <thead>\n",
    "              <th style=\"text-align: center; font-size: medium;\">Que es Blockchain?</th>\n",
    "            </thead>\n",
    "            <tbody>\n",
    "              <tr bgcolor=\"#F7ECDE\">\n",
    "                <td style=\"text-align: left; font-size: medium;line-height: 30px;\">Como su nombre lo indica, blockchain es esencialmente un conjunto de bloques conectados o un libro \n",
    "                  de contabilidad en línea. Cada bloque contiene un conjunto de transacciones que han sido verificadas de forma independiente por cada miembro de la red. Cada nuevo bloque\n",
    "                  generado debe ser verificado por cada nodo antes de ser confirmado, lo que hace que sea casi imposible falsificar historiales de transacciones. Por tanto, la innovación que\n",
    "                  garantiza blockchain son la fidelidad y la seguridad sin necesidad de ir a terceros. \n",
    "                </br>\n",
    "                  Otro punto importante, es que blockchain permite solamente el almacenamiento de la información, pero no la edición de la misma, y por lo tanto apunta a ser inmutable. \n",
    "                </br>\n",
    "                <div margin=\"auto\"><img src=\"Transaction.png\" width=\"900\" margin=\"auto\"><div>\n",
    "                    <a href=\"https://daglar-cizmeci.com/blockchain-encryption/#:~:text=Blockchain%20encryption%20is%20the%20prevention,must%20be%20very%20much%20protected.\">\n",
    "                    Daglar Cizmeci </a>. \n",
    "                    </br>\n",
    "                    </br>   \n",
    "                    Principales características: \n",
    "                        <ul>\n",
    "                          <li>Las criptomonedas son una activo digital que está distribuido a través de una amplia red de computadoras.</li>\n",
    "                          <li>Es una estructura descentralizada y por ende no existe control gubernamental.</li>\n",
    "                          <li>Se cree que la tecnología \"Blockchain\" cambiara la manera de operar en el área financiera y de leyes</li>\n",
    "                          <li>Dentro de las ventajas a grandes rasgos se prevén transferencias más baratas y rápidas y un sistema que no colapsará en un solo punto de falla</li>\n",
    "                          <li>Dentro de las desventajas se incluye volatibilidad en los precios, un alto consumo de energía por el \"mining\" de la red y actividades criminales junto con \n",
    "                            poca regulación. \n",
    "                          </li>\n",
    "                        </ul>\n",
    "                    </br>\n",
    "                    </br>  \n",
    "                    Cripto, hace referencia a los algoritmos que se utilizan para encriptar y resguardar estas transacciones, y \n",
    "                    algunas de ellas son encriptación en curva elíptica, pares de llaves privado-públicas y funciones de \"hashing\".\n",
    "                    </br>\n",
    "                    \"El cifrado en sí mismo, cuando se trata de blockchain, se encuentra en las matemáticas detrás de la red minera. El cifrado es el proceso de convertir información o datos en un código, especialmente para evitar el acceso no autorizado. El cifrado utiliza más técnicas matemáticas junto con contraseñas y claves utilizadas para descifrar la información y depende en gran medida de un algoritmo para hacer que la información original sea ilegible.\" <a href=\"https://daglar-cizmeci.com/blockchain-encryption/#:~:text=Blockchain%20encryption%20is%20the%20prevention,must%20be%20very%20much%20protected.\">(daglar-cizmeci, 2021)\n",
    "    </a>\n",
    "    </br></br>\n",
    "    Principales Ventajas:\n",
    "    </br>\n",
    "    <ul>\n",
    "      <li>Confianza: genera confianza en entidades y situaciones donde es usualmente imposible, debido a que las entidades participantes son proclives a participar de transacciones en un ambiente que lo permite o en situaciones donde antes se requería de un intermediario para garantizar confianza. El ejemplo clásico es plataformas como localbitcoins.com, que permite la compra y venta de bitcoin y se deposita en cuentas nacionales.</li>\n",
    "      <li>Estructura descentralizada: Permite las transacciones e interacciones de distintas entidades en un ambiente donde no hay una entidad exclusiva a cargo de controlarlo. La cadena de suministro es un ejemplo: Múltiples empresas, desde proveedores y empresas de transporte hasta productores, distribuidores y minoristas, quieren o necesitan información de otros en esa cadena, pero nadie está a cargo de facilitar todo ese intercambio de información.</li>\n",
    "      <li>Seguridad y Privacidad: La seguridad mejorada que ofrece blockchain se deriva de cómo funciona realmente la tecnología: Blockchain crea un registro inalterable de transacciones con encriptación de extremo a extremo, que bloquea el fraude y la actividad no autorizada. Además, los datos de la cadena de bloques se almacenan en una red de computadoras, lo que hace que sea casi imposible de \"hackear\" (a diferencia de los sistemas informáticos convencionales que almacenan datos juntos en servidores).</li>\n",
    "      <li>Costos reducidos, trazabilidad y velocidad: Para las compañías también presenta amplios beneficios, como eficiencias en el procesado de transacciones que reducen costos, al igual que remover partes terceras de estas interacciones, además de aumentar la velocidad de las transacciones al mitigar partes innecesarias como terceros y mejorar la trazabilidad de cada una de las transacciones. </li>\n",
    "    </ul>\n",
    "    <div margin=\"auto\"><img src=\"blockchainbenefits.png\" width=\"900\" margin=\"auto\"><div>\n",
    "    <a href=\"https://www.techtarget.com/searchcio/feature/Top-10-benefits-of-blockchain-technology-for-business\">\n",
    "                    techtarget </a>.</br></br>\n",
    "    Principales Desventajas:\n",
    "                <ul>\n",
    "                      <li>Escalabilidad: El tamaño del bloque es de 1 MB, por lo que solo puede contener un par de transacciones en un solo bloque.</li>\n",
    "                      <li>Nueva Tecnología: Es una tecnología muy nueva que todavía necesita generar más confianza.</li>\n",
    "                      <li>Consumo de energía: Durante el 2018, el 0.3 del consumo de energía mundial, se uso solamente para verificar transacciones en blockchain según geeksforgeeks.org. </li>\n",
    "                      <li>Alto Consumo de tiempo para agregar nuevos bloques.</li>\n",
    "                      <li>Almacenamiento y Regulaciones: Las bases de datos están guardadas en todos los nodos de la red, lo que aumenta el espacio requerido de almacenamiento y en algunos países está regulado o prohibido.</li>\n",
    "                </ul>\n",
    "            </td>\n",
    "          </tr>\n",
    "        </tbody>\n",
    "      </table>\n",
    "    </font>\n",
    "  </div>"
   ]
  },
  {
   "cell_type": "markdown",
   "id": "3d04fac3",
   "metadata": {},
   "source": [
    "<div style=\"margin-left: 25px; text-align: left; font-size: large; margin-top: 50px;\" >\n",
    "        <font face=\"Arial\" style=\"font-size: large;\">\n",
    "          <table align=\"center\" style=\"text-align: left;\">\n",
    "            <thead>\n",
    "              <th style=\"text-align: center; font-size: medium;\">Caso Wallmart</th>\n",
    "            </thead>\n",
    "            <tbody>\n",
    "              <tr bgcolor=\"#F7ECDE\">\n",
    "                <td style=\"text-align: left; font-size: medium;line-height: 30px; vertical-align: top;\">\"Cuando ocurre un brote de una enfermedad transmitida por los alimentos, puede llevar días, si \n",
    "                  no semanas, encontrar su origen. Una mejor trazabilidad podría ayudar a salvar vidas al permitir que las empresas actúen más rápido y protejan los medios de vida\n",
    "                   de los agricultores al descartar solo los productos de las granjas afectadas.\" \n",
    "                </td>\n",
    "                <td style=\"text-align: left; font-size: medium;line-height: 30px;\">Walmart pensó que la tecnología blockchain podría ser una buena opción para el ecosistema descentralizado de suministro de alimentos. Para probar esta hipótesis, la empresa creó un sistema de trazabilidad de alimentos basado en Hyperledger Fabric. Walmart, junto con su socio tecnológico IBM, llevó a cabo dos proyectos de prueba de concepto para probar el sistema. Un proyecto trataba de rastrear los mangos vendidos en las tiendas de Walmart en EE. UU. y el otro tenía como objetivo rastrear la carne de cerdo vendida en sus tiendas de China.\n",
    "                  <br/>\n",
    "                  El sistema de trazabilidad de alimentos basado en blockchain de Hyperledger Fabric creado para los dos productos funcionó. Para la carne de cerdo en China, permitió cargar certificados de autenticidad en la cadena de bloques, lo que brindó más confianza a un sistema en el que eso solía ser un problema grave. Y para los mangos en los EE. UU., el tiempo necesario para rastrear su procedencia pasó de 7 días a… ¡2,2 segundos!\n",
    "                </td>\n",
    "                <td style=\"text-align: left; font-size: medium;line-height: 30px; vertical-align: top;\">\n",
    "                  Walmart ahora puede rastrear el origen de más de 25 productos de 5 proveedores diferentes utilizando un sistema impulsado por Hyperledger Fabric. La compañía planea implementar el sistema en más productos y categorías en un futuro próximo. De hecho, recientemente anunció que comenzará a exigir a todos sus proveedores de verduras de hojas verdes frescas (como ensaladas y espinacas) que rastreen sus productos utilizando el sistema.\n",
    "                </td>\n",
    "              </tr>\n",
    "              <tr>\n",
    "                <td colspan='3' style=\"text-align: left; font-size: medium;line-height: 30px;\"><div margin='auto'><img src='Wallmart.png' width='1200' margin='auto'></div>\n",
    "                  <a href=\"https://www.hyperledger.org/learn/publications/walmart-case-study#:~:text=Walmart%20now%20traces%20over%2025,is%20built%20atop%20Hyperledger%20Fabric.\">Hyperledger.org</a>\n",
    "                  </td> \n",
    "              </tr> \n",
    "            </tbody>\n",
    "          </table>\n",
    "        </font>\n",
    "      </div>"
   ]
  },
  {
   "cell_type": "markdown",
   "id": "9b3b4da8",
   "metadata": {},
   "source": [
    "<div style=\" text-align: left; font-size: large; margin-top: 50px;\" >\n",
    "        <font face=\"Arial\" style=\"font-size: large;\">\n",
    "          <table style=\"text-align: left;\">\n",
    "            <thead>\n",
    "              <th style=\"text-align: center; font-size: medium;\">Plataformas que permiten el intercambio</th>\n",
    "              <th style=\"text-align: center; font-size: medium;\">Requisitos para poder intercambiar criptomonedas</th>\n",
    "              <th style=\"text-align: center; font-size: medium;\">Plataforma que se utilizará</th>\n",
    "            </thead>\n",
    "            <tbody>\n",
    "              <tr bgcolor=\"#F7ECDE\">\n",
    "                <td style=\"text-align: left; font-size: medium;line-height: 30px; vertical-align: top;\">\n",
    "                    <ul>\n",
    "                          <li>Binance</li>\n",
    "                          <li>Robinhood</li>\n",
    "                          <li>Interactive Brokers</li>\n",
    "                          <li>Webull</li>\n",
    "                          <li>TradeStation</li>\n",
    "                          <li>Coinbase</li>\n",
    "                          <li>eToro</li>\n",
    "                          <li>Kraken</li>\n",
    "                          <li>Charles Schwab</li>\n",
    "                    </ul>\n",
    "                    <a href=\"https://www.bankrate.com/investing/best-online-brokers-cryptocurrency-trading/\">bankrate.com</a>\n",
    "                </td>\n",
    "                <td style=\"text-align: left; font-size: medium;line-height: 30px; vertical-align: top;\">\n",
    "                    <ul>\n",
    "                          <li>Disponibilidad en su país</li>\n",
    "                          <li>Disponibilidad de instrumentos a intercambiar</li>\n",
    "                          <li>Costos de comisión</li>\n",
    "                          <li>Que tengan cuentas \"Paper Trading\" para testing</li>\n",
    "                    </ul>\n",
    "                </td>\n",
    "                <td style=\"text-align: left; font-size: medium;line-height: 30px;\"><div margin='auto'><img src='Binance.webp' width='350' margin='auto'></div>\n",
    "                  </td> \n",
    "              </tr>\n",
    "            </tbody>\n",
    "          </table>\n",
    "        </font>\n",
    "      </div>"
   ]
  },
  {
   "cell_type": "markdown",
   "id": "b19377f4",
   "metadata": {},
   "source": [
    "<div style=\"margin-left: 25px;margin-top:50px ;text-align: left; font-size: large;\" >\n",
    "    <font face=\"Arial\" style=\"font-size: large;\">\n",
    "      <table align=\"center\" style=\"text-align: left;\">\n",
    "        <thead>\n",
    "          <th style=\"text-align: center; font-size: medium;\"><h2 style=\"color:#395B64;\">¿Debería yo invertir en Criptomonedas?</h2></th>\n",
    "        </thead>\n",
    "        <tbody>\n",
    "          <tr bgcolor=\"#F7ECDE\">\n",
    "            <td style=\"text-align: left; font-size: medium;line-height: 30px;\">La presente sección incluirá un análisis práctico del mercado de criptomonedas en contraposición con el mercado financiero de wallstreet o el denominado \"Stock Market\" de Estados Unidos, esto con la intención de analizar información y además cubrir los objetivos específicos del 2 al 4 con un ejemplo práctico y mitigar el uso de más teoría. Por lo que se utilizarán 2 activos de criptomonedas y 2 activos de Wallstreet para analizar sus riesgos implícitos, sus beneficios, su realidad como un todo y su marco regulatorio.  \n",
    "                </br>\n",
    "Para minar la información histórica se utilizará la plataforma yfinance, que brinda Yahoo Finance para obtener datos históricos de diferentes activos. \n",
    "            </td>\n",
    "          </tr>\n",
    "        </tbody>\n",
    "      </table>\n",
    "    </font>\n",
    "  </div>"
   ]
  },
  {
   "cell_type": "code",
   "execution_count": 2,
   "id": "6bb6fc75",
   "metadata": {},
   "outputs": [],
   "source": [
    "#Se importará pandas y la libreria yfinance para obtener la información histórica de los activos. \n",
    "import pandas as pd\n",
    "import numpy as np\n",
    "import yfinance as yf"
   ]
  },
  {
   "cell_type": "markdown",
   "id": "1954e6a3",
   "metadata": {},
   "source": [
    "<div style=\"margin-left: 25px;text-align: left; font-size: large;\" >\n",
    "    <font face=\"Arial\" style=\"font-size: large;\">\n",
    "      <table align=\"center\" style=\"text-align: left;\">\n",
    "        <tbody>\n",
    "          <tr bgcolor=\"#F7ECDE\">\n",
    "            <td style=\"text-align: left; font-size: medium;line-height: 30px;\">Se procederá a realizar un análisis de rendimiento y utilizar un rango de Noviembre de 2017 a Junio del 2021 para obtener la información de los distintos activos, ademas de que se utilizará las acciones de Apple Inc, Microsoft por parte de Wallstreet y Bitcoin y Ethereum para las criptomonedas. Adicionalmente ingresaremos el precio del oro para brindar mas variedad de instrumentos y enriquecer el análisis. \n",
    "            </td>\n",
    "          </tr>\n",
    "        </tbody>\n",
    "      </table>\n",
    "    </font>\n",
    "  </div>"
   ]
  },
  {
   "cell_type": "markdown",
   "id": "7ad65923",
   "metadata": {},
   "source": [
    "<div style=\"margin-left: 25px;text-align: left; font-size: large;\" >\n",
    "    <font face=\"Arial\" style=\"font-size: large;\">\n",
    "      <table align=\"center\" style=\"text-align: left;\">\n",
    "        <tbody>\n",
    "          <tr bgcolor=\"#F7ECDE\">\n",
    "            <td style=\"text-align: left; font-size: medium;line-height: 30px;\">Análisis de Rendimiento\n",
    "            </td>\n",
    "          </tr>\n",
    "        </tbody>\n",
    "      </table>\n",
    "    </font>\n",
    "  </div>"
   ]
  },
  {
   "cell_type": "markdown",
   "id": "a8aa6d18",
   "metadata": {},
   "source": [
    "<div style=\"margin-left: 25px;text-align: left; font-size: large;\" >\n",
    "    <font face=\"Arial\" style=\"font-size: large;\">\n",
    "      <table align=\"center\" style=\"text-align: left;\">\n",
    "        <tbody>\n",
    "          <tr bgcolor=\"#F7ECDE\">\n",
    "            <td style=\"text-align: left; font-size: medium;line-height: 30px;\">Los inversores prudentes saben que una definición precisa de rentabilidad es situacional y depende de la entrada de datos financieros para medirla. Un término general como beneficio podría significar bruto, operativo, neto, antes de impuestos o después de impuestos. Un término general como inversión podría significar activos seleccionados, promedio o totales. Pero para nuestro análisis vamos a utilizar una medida muy específica para obtener el rendimiento o retorno esperado, la cual es el retorno logarítmico, dado por la función que brinda numpy de \"log\". Dicha definición y análisis comparado contra el rendimiento logarítmico, se brindará posteriormente. \n",
    "            </td>\n",
    "          </tr>\n",
    "        </tbody>\n",
    "      </table>\n",
    "    </font>\n",
    "  </div>"
   ]
  },
  {
   "cell_type": "code",
   "execution_count": 3,
   "id": "a525cebd",
   "metadata": {},
   "outputs": [],
   "source": [
    "''' \n",
    "AAPL : Apple Inc\n",
    "MSFT : Microsoft Corporation\n",
    "BTC-USD : Bitcoin\n",
    "ETH-USD : Ethereum\n",
    "GC=F : Oro\n",
    "\n",
    "'''\n",
    "inicio = '2017-11-09'\n",
    "final = '2021-06-30'\n",
    "activos = ['AAPL', 'MSFT', 'BTC-USD', 'ETH-USD', 'GC=F']"
   ]
  },
  {
   "cell_type": "code",
   "execution_count": 4,
   "id": "17ff39f3",
   "metadata": {},
   "outputs": [
    {
     "name": "stdout",
     "output_type": "stream",
     "text": [
      "[*********************100%***********************]  5 of 5 completed\n"
     ]
    }
   ],
   "source": [
    "#Almacenaremos la informacion de los 5 activos en la variable df\n",
    "df = yf.download(activos, inicio, final)"
   ]
  },
  {
   "cell_type": "code",
   "execution_count": 5,
   "id": "ba4cabfc",
   "metadata": {},
   "outputs": [
    {
     "name": "stdout",
     "output_type": "stream",
     "text": [
      "<class 'pandas.core.frame.DataFrame'>\n",
      "DatetimeIndex: 1330 entries, 2017-11-09 to 2021-06-30\n",
      "Freq: D\n",
      "Data columns (total 30 columns):\n",
      " #   Column                Non-Null Count  Dtype  \n",
      "---  ------                --------------  -----  \n",
      " 0   (Adj Close, AAPL)     914 non-null    float64\n",
      " 1   (Adj Close, BTC-USD)  1330 non-null   float64\n",
      " 2   (Adj Close, ETH-USD)  1330 non-null   float64\n",
      " 3   (Adj Close, GC=F)     914 non-null    float64\n",
      " 4   (Adj Close, MSFT)     914 non-null    float64\n",
      " 5   (Close, AAPL)         914 non-null    float64\n",
      " 6   (Close, BTC-USD)      1330 non-null   float64\n",
      " 7   (Close, ETH-USD)      1330 non-null   float64\n",
      " 8   (Close, GC=F)         914 non-null    float64\n",
      " 9   (Close, MSFT)         914 non-null    float64\n",
      " 10  (High, AAPL)          914 non-null    float64\n",
      " 11  (High, BTC-USD)       1330 non-null   float64\n",
      " 12  (High, ETH-USD)       1330 non-null   float64\n",
      " 13  (High, GC=F)          914 non-null    float64\n",
      " 14  (High, MSFT)          914 non-null    float64\n",
      " 15  (Low, AAPL)           914 non-null    float64\n",
      " 16  (Low, BTC-USD)        1330 non-null   float64\n",
      " 17  (Low, ETH-USD)        1330 non-null   float64\n",
      " 18  (Low, GC=F)           914 non-null    float64\n",
      " 19  (Low, MSFT)           914 non-null    float64\n",
      " 20  (Open, AAPL)          914 non-null    float64\n",
      " 21  (Open, BTC-USD)       1330 non-null   float64\n",
      " 22  (Open, ETH-USD)       1330 non-null   float64\n",
      " 23  (Open, GC=F)          914 non-null    float64\n",
      " 24  (Open, MSFT)          914 non-null    float64\n",
      " 25  (Volume, AAPL)        914 non-null    float64\n",
      " 26  (Volume, BTC-USD)     1330 non-null   int64  \n",
      " 27  (Volume, ETH-USD)     1330 non-null   int64  \n",
      " 28  (Volume, GC=F)        914 non-null    float64\n",
      " 29  (Volume, MSFT)        914 non-null    float64\n",
      "dtypes: float64(28), int64(2)\n",
      "memory usage: 322.1 KB\n"
     ]
    }
   ],
   "source": [
    "df.info()"
   ]
  },
  {
   "cell_type": "code",
   "execution_count": 6,
   "id": "d4686514",
   "metadata": {},
   "outputs": [],
   "source": [
    "#Se guardara el reporte como CSV para importar de nuevo y formatear de manera más eficiente. \n",
    "\n",
    "df.to_csv('multi_assets.csv')"
   ]
  },
  {
   "cell_type": "code",
   "execution_count": 7,
   "id": "1157daef",
   "metadata": {},
   "outputs": [],
   "source": [
    "#Se importa la libreria de matplotlib y el estilo 'seaborn' que es uno de los más utilizados. \n",
    "import matplotlib.pyplot as plt\n",
    "pd.options.display.float_format = '{:.4f}'.format\n",
    "plt.style.use(\"seaborn\")"
   ]
  },
  {
   "cell_type": "code",
   "execution_count": 8,
   "id": "0c2f6c8b",
   "metadata": {},
   "outputs": [],
   "source": [
    "#Se formateará el archivo para agregar nombres de columnas y darle un indice que indica la fecha de transacción y\n",
    "# el formateo de la misma de string a date.  \n",
    "df = pd.read_csv('multi_assets.csv', header = [0,1],\n",
    "              index_col = 0, parse_dates = [0])"
   ]
  },
  {
   "cell_type": "code",
   "execution_count": 9,
   "id": "a799217e",
   "metadata": {
    "scrolled": true
   },
   "outputs": [
    {
     "data": {
      "text/html": [
       "<div>\n",
       "<style scoped>\n",
       "    .dataframe tbody tr th:only-of-type {\n",
       "        vertical-align: middle;\n",
       "    }\n",
       "\n",
       "    .dataframe tbody tr th {\n",
       "        vertical-align: top;\n",
       "    }\n",
       "\n",
       "    .dataframe thead tr th {\n",
       "        text-align: left;\n",
       "    }\n",
       "\n",
       "    .dataframe thead tr:last-of-type th {\n",
       "        text-align: right;\n",
       "    }\n",
       "</style>\n",
       "<table border=\"1\" class=\"dataframe\">\n",
       "  <thead>\n",
       "    <tr>\n",
       "      <th></th>\n",
       "      <th colspan=\"5\" halign=\"left\">Adj Close</th>\n",
       "      <th colspan=\"5\" halign=\"left\">Close</th>\n",
       "      <th>...</th>\n",
       "      <th colspan=\"5\" halign=\"left\">Open</th>\n",
       "      <th colspan=\"5\" halign=\"left\">Volume</th>\n",
       "    </tr>\n",
       "    <tr>\n",
       "      <th></th>\n",
       "      <th>AAPL</th>\n",
       "      <th>BTC-USD</th>\n",
       "      <th>ETH-USD</th>\n",
       "      <th>GC=F</th>\n",
       "      <th>MSFT</th>\n",
       "      <th>AAPL</th>\n",
       "      <th>BTC-USD</th>\n",
       "      <th>ETH-USD</th>\n",
       "      <th>GC=F</th>\n",
       "      <th>MSFT</th>\n",
       "      <th>...</th>\n",
       "      <th>AAPL</th>\n",
       "      <th>BTC-USD</th>\n",
       "      <th>ETH-USD</th>\n",
       "      <th>GC=F</th>\n",
       "      <th>MSFT</th>\n",
       "      <th>AAPL</th>\n",
       "      <th>BTC-USD</th>\n",
       "      <th>ETH-USD</th>\n",
       "      <th>GC=F</th>\n",
       "      <th>MSFT</th>\n",
       "    </tr>\n",
       "    <tr>\n",
       "      <th>Date</th>\n",
       "      <th></th>\n",
       "      <th></th>\n",
       "      <th></th>\n",
       "      <th></th>\n",
       "      <th></th>\n",
       "      <th></th>\n",
       "      <th></th>\n",
       "      <th></th>\n",
       "      <th></th>\n",
       "      <th></th>\n",
       "      <th></th>\n",
       "      <th></th>\n",
       "      <th></th>\n",
       "      <th></th>\n",
       "      <th></th>\n",
       "      <th></th>\n",
       "      <th></th>\n",
       "      <th></th>\n",
       "      <th></th>\n",
       "      <th></th>\n",
       "      <th></th>\n",
       "    </tr>\n",
       "  </thead>\n",
       "  <tbody>\n",
       "    <tr>\n",
       "      <th>2017-11-09</th>\n",
       "      <td>41.7304</td>\n",
       "      <td>7143.5801</td>\n",
       "      <td>320.8840</td>\n",
       "      <td>1285.6000</td>\n",
       "      <td>79.0152</td>\n",
       "      <td>43.9700</td>\n",
       "      <td>7143.5801</td>\n",
       "      <td>320.8840</td>\n",
       "      <td>1285.6000</td>\n",
       "      <td>84.0900</td>\n",
       "      <td>...</td>\n",
       "      <td>43.7775</td>\n",
       "      <td>7446.8301</td>\n",
       "      <td>308.6450</td>\n",
       "      <td>1279.7000</td>\n",
       "      <td>84.1100</td>\n",
       "      <td>117930400.0000</td>\n",
       "      <td>3226249984</td>\n",
       "      <td>893249984</td>\n",
       "      <td>18.0000</td>\n",
       "      <td>21178400.0000</td>\n",
       "    </tr>\n",
       "    <tr>\n",
       "      <th>2017-11-10</th>\n",
       "      <td>41.5923</td>\n",
       "      <td>6618.1401</td>\n",
       "      <td>299.2530</td>\n",
       "      <td>1272.4000</td>\n",
       "      <td>78.8084</td>\n",
       "      <td>43.6675</td>\n",
       "      <td>6618.1401</td>\n",
       "      <td>299.2530</td>\n",
       "      <td>1272.4000</td>\n",
       "      <td>83.8700</td>\n",
       "      <td>...</td>\n",
       "      <td>43.7775</td>\n",
       "      <td>7173.7300</td>\n",
       "      <td>320.6710</td>\n",
       "      <td>1283.5000</td>\n",
       "      <td>83.7900</td>\n",
       "      <td>100582000.0000</td>\n",
       "      <td>5208249856</td>\n",
       "      <td>885985984</td>\n",
       "      <td>10.0000</td>\n",
       "      <td>19397800.0000</td>\n",
       "    </tr>\n",
       "    <tr>\n",
       "      <th>2017-11-11</th>\n",
       "      <td>NaN</td>\n",
       "      <td>6357.6001</td>\n",
       "      <td>314.6810</td>\n",
       "      <td>NaN</td>\n",
       "      <td>NaN</td>\n",
       "      <td>NaN</td>\n",
       "      <td>6357.6001</td>\n",
       "      <td>314.6810</td>\n",
       "      <td>NaN</td>\n",
       "      <td>NaN</td>\n",
       "      <td>...</td>\n",
       "      <td>NaN</td>\n",
       "      <td>6618.6099</td>\n",
       "      <td>298.5860</td>\n",
       "      <td>NaN</td>\n",
       "      <td>NaN</td>\n",
       "      <td>NaN</td>\n",
       "      <td>4908680192</td>\n",
       "      <td>842300992</td>\n",
       "      <td>NaN</td>\n",
       "      <td>NaN</td>\n",
       "    </tr>\n",
       "    <tr>\n",
       "      <th>2017-11-12</th>\n",
       "      <td>NaN</td>\n",
       "      <td>5950.0698</td>\n",
       "      <td>307.9080</td>\n",
       "      <td>NaN</td>\n",
       "      <td>NaN</td>\n",
       "      <td>NaN</td>\n",
       "      <td>5950.0698</td>\n",
       "      <td>307.9080</td>\n",
       "      <td>NaN</td>\n",
       "      <td>NaN</td>\n",
       "      <td>...</td>\n",
       "      <td>NaN</td>\n",
       "      <td>6295.4502</td>\n",
       "      <td>314.6900</td>\n",
       "      <td>NaN</td>\n",
       "      <td>NaN</td>\n",
       "      <td>NaN</td>\n",
       "      <td>8957349888</td>\n",
       "      <td>1613479936</td>\n",
       "      <td>NaN</td>\n",
       "      <td>NaN</td>\n",
       "    </tr>\n",
       "    <tr>\n",
       "      <th>2017-11-13</th>\n",
       "      <td>41.4256</td>\n",
       "      <td>6559.4902</td>\n",
       "      <td>316.7160</td>\n",
       "      <td>1277.3000</td>\n",
       "      <td>78.8648</td>\n",
       "      <td>43.4925</td>\n",
       "      <td>6559.4902</td>\n",
       "      <td>316.7160</td>\n",
       "      <td>1277.3000</td>\n",
       "      <td>83.9300</td>\n",
       "      <td>...</td>\n",
       "      <td>43.3750</td>\n",
       "      <td>5938.2500</td>\n",
       "      <td>307.0250</td>\n",
       "      <td>1277.3000</td>\n",
       "      <td>83.6600</td>\n",
       "      <td>67928400.0000</td>\n",
       "      <td>6263249920</td>\n",
       "      <td>1041889984</td>\n",
       "      <td>3.0000</td>\n",
       "      <td>14196900.0000</td>\n",
       "    </tr>\n",
       "    <tr>\n",
       "      <th>...</th>\n",
       "      <td>...</td>\n",
       "      <td>...</td>\n",
       "      <td>...</td>\n",
       "      <td>...</td>\n",
       "      <td>...</td>\n",
       "      <td>...</td>\n",
       "      <td>...</td>\n",
       "      <td>...</td>\n",
       "      <td>...</td>\n",
       "      <td>...</td>\n",
       "      <td>...</td>\n",
       "      <td>...</td>\n",
       "      <td>...</td>\n",
       "      <td>...</td>\n",
       "      <td>...</td>\n",
       "      <td>...</td>\n",
       "      <td>...</td>\n",
       "      <td>...</td>\n",
       "      <td>...</td>\n",
       "      <td>...</td>\n",
       "      <td>...</td>\n",
       "    </tr>\n",
       "    <tr>\n",
       "      <th>2021-06-26</th>\n",
       "      <td>NaN</td>\n",
       "      <td>32186.2773</td>\n",
       "      <td>1829.2393</td>\n",
       "      <td>NaN</td>\n",
       "      <td>NaN</td>\n",
       "      <td>NaN</td>\n",
       "      <td>32186.2773</td>\n",
       "      <td>1829.2393</td>\n",
       "      <td>NaN</td>\n",
       "      <td>NaN</td>\n",
       "      <td>...</td>\n",
       "      <td>NaN</td>\n",
       "      <td>31594.6641</td>\n",
       "      <td>1810.8843</td>\n",
       "      <td>NaN</td>\n",
       "      <td>NaN</td>\n",
       "      <td>NaN</td>\n",
       "      <td>38585385521</td>\n",
       "      <td>20637542361</td>\n",
       "      <td>NaN</td>\n",
       "      <td>NaN</td>\n",
       "    </tr>\n",
       "    <tr>\n",
       "      <th>2021-06-27</th>\n",
       "      <td>NaN</td>\n",
       "      <td>34649.6445</td>\n",
       "      <td>1978.8947</td>\n",
       "      <td>NaN</td>\n",
       "      <td>NaN</td>\n",
       "      <td>NaN</td>\n",
       "      <td>34649.6445</td>\n",
       "      <td>1978.8947</td>\n",
       "      <td>NaN</td>\n",
       "      <td>NaN</td>\n",
       "      <td>...</td>\n",
       "      <td>NaN</td>\n",
       "      <td>32287.5234</td>\n",
       "      <td>1830.9969</td>\n",
       "      <td>NaN</td>\n",
       "      <td>NaN</td>\n",
       "      <td>NaN</td>\n",
       "      <td>35511640894</td>\n",
       "      <td>19885474742</td>\n",
       "      <td>NaN</td>\n",
       "      <td>NaN</td>\n",
       "    </tr>\n",
       "    <tr>\n",
       "      <th>2021-06-28</th>\n",
       "      <td>133.8284</td>\n",
       "      <td>34434.3359</td>\n",
       "      <td>2079.6575</td>\n",
       "      <td>1779.6000</td>\n",
       "      <td>265.9790</td>\n",
       "      <td>134.7800</td>\n",
       "      <td>34434.3359</td>\n",
       "      <td>2079.6575</td>\n",
       "      <td>1779.6000</td>\n",
       "      <td>268.7200</td>\n",
       "      <td>...</td>\n",
       "      <td>133.4100</td>\n",
       "      <td>34679.1211</td>\n",
       "      <td>1981.3865</td>\n",
       "      <td>1779.6000</td>\n",
       "      <td>266.1900</td>\n",
       "      <td>62111300.0000</td>\n",
       "      <td>33892523752</td>\n",
       "      <td>25514602841</td>\n",
       "      <td>888.0000</td>\n",
       "      <td>19590000.0000</td>\n",
       "    </tr>\n",
       "    <tr>\n",
       "      <th>2021-06-29</th>\n",
       "      <td>135.3675</td>\n",
       "      <td>35867.7773</td>\n",
       "      <td>2160.7683</td>\n",
       "      <td>1762.8000</td>\n",
       "      <td>268.6316</td>\n",
       "      <td>136.3300</td>\n",
       "      <td>35867.7773</td>\n",
       "      <td>2160.7683</td>\n",
       "      <td>1762.8000</td>\n",
       "      <td>271.4000</td>\n",
       "      <td>...</td>\n",
       "      <td>134.8000</td>\n",
       "      <td>34475.5586</td>\n",
       "      <td>2083.4487</td>\n",
       "      <td>1776.8000</td>\n",
       "      <td>268.8700</td>\n",
       "      <td>64556100.0000</td>\n",
       "      <td>37901460044</td>\n",
       "      <td>24815124419</td>\n",
       "      <td>419.0000</td>\n",
       "      <td>19937800.0000</td>\n",
       "    </tr>\n",
       "    <tr>\n",
       "      <th>2021-06-30</th>\n",
       "      <td>NaN</td>\n",
       "      <td>35040.8359</td>\n",
       "      <td>2274.5476</td>\n",
       "      <td>1770.8000</td>\n",
       "      <td>NaN</td>\n",
       "      <td>NaN</td>\n",
       "      <td>35040.8359</td>\n",
       "      <td>2274.5476</td>\n",
       "      <td>1770.8000</td>\n",
       "      <td>NaN</td>\n",
       "      <td>...</td>\n",
       "      <td>NaN</td>\n",
       "      <td>35908.3867</td>\n",
       "      <td>2164.2163</td>\n",
       "      <td>1761.1000</td>\n",
       "      <td>NaN</td>\n",
       "      <td>NaN</td>\n",
       "      <td>34059036099</td>\n",
       "      <td>25828056268</td>\n",
       "      <td>51.0000</td>\n",
       "      <td>NaN</td>\n",
       "    </tr>\n",
       "  </tbody>\n",
       "</table>\n",
       "<p>1330 rows × 30 columns</p>\n",
       "</div>"
      ],
      "text/plain": [
       "           Adj Close                                            Close  \\\n",
       "                AAPL    BTC-USD   ETH-USD      GC=F     MSFT     AAPL   \n",
       "Date                                                                    \n",
       "2017-11-09   41.7304  7143.5801  320.8840 1285.6000  79.0152  43.9700   \n",
       "2017-11-10   41.5923  6618.1401  299.2530 1272.4000  78.8084  43.6675   \n",
       "2017-11-11       NaN  6357.6001  314.6810       NaN      NaN      NaN   \n",
       "2017-11-12       NaN  5950.0698  307.9080       NaN      NaN      NaN   \n",
       "2017-11-13   41.4256  6559.4902  316.7160 1277.3000  78.8648  43.4925   \n",
       "...              ...        ...       ...       ...      ...      ...   \n",
       "2021-06-26       NaN 32186.2773 1829.2393       NaN      NaN      NaN   \n",
       "2021-06-27       NaN 34649.6445 1978.8947       NaN      NaN      NaN   \n",
       "2021-06-28  133.8284 34434.3359 2079.6575 1779.6000 265.9790 134.7800   \n",
       "2021-06-29  135.3675 35867.7773 2160.7683 1762.8000 268.6316 136.3300   \n",
       "2021-06-30       NaN 35040.8359 2274.5476 1770.8000      NaN      NaN   \n",
       "\n",
       "                                                    ...     Open             \\\n",
       "              BTC-USD   ETH-USD      GC=F     MSFT  ...     AAPL    BTC-USD   \n",
       "Date                                                ...                       \n",
       "2017-11-09  7143.5801  320.8840 1285.6000  84.0900  ...  43.7775  7446.8301   \n",
       "2017-11-10  6618.1401  299.2530 1272.4000  83.8700  ...  43.7775  7173.7300   \n",
       "2017-11-11  6357.6001  314.6810       NaN      NaN  ...      NaN  6618.6099   \n",
       "2017-11-12  5950.0698  307.9080       NaN      NaN  ...      NaN  6295.4502   \n",
       "2017-11-13  6559.4902  316.7160 1277.3000  83.9300  ...  43.3750  5938.2500   \n",
       "...               ...       ...       ...      ...  ...      ...        ...   \n",
       "2021-06-26 32186.2773 1829.2393       NaN      NaN  ...      NaN 31594.6641   \n",
       "2021-06-27 34649.6445 1978.8947       NaN      NaN  ...      NaN 32287.5234   \n",
       "2021-06-28 34434.3359 2079.6575 1779.6000 268.7200  ... 133.4100 34679.1211   \n",
       "2021-06-29 35867.7773 2160.7683 1762.8000 271.4000  ... 134.8000 34475.5586   \n",
       "2021-06-30 35040.8359 2274.5476 1770.8000      NaN  ...      NaN 35908.3867   \n",
       "\n",
       "                                                Volume               \\\n",
       "             ETH-USD      GC=F     MSFT           AAPL      BTC-USD   \n",
       "Date                                                                  \n",
       "2017-11-09  308.6450 1279.7000  84.1100 117930400.0000   3226249984   \n",
       "2017-11-10  320.6710 1283.5000  83.7900 100582000.0000   5208249856   \n",
       "2017-11-11  298.5860       NaN      NaN            NaN   4908680192   \n",
       "2017-11-12  314.6900       NaN      NaN            NaN   8957349888   \n",
       "2017-11-13  307.0250 1277.3000  83.6600  67928400.0000   6263249920   \n",
       "...              ...       ...      ...            ...          ...   \n",
       "2021-06-26 1810.8843       NaN      NaN            NaN  38585385521   \n",
       "2021-06-27 1830.9969       NaN      NaN            NaN  35511640894   \n",
       "2021-06-28 1981.3865 1779.6000 266.1900  62111300.0000  33892523752   \n",
       "2021-06-29 2083.4487 1776.8000 268.8700  64556100.0000  37901460044   \n",
       "2021-06-30 2164.2163 1761.1000      NaN            NaN  34059036099   \n",
       "\n",
       "                                                \n",
       "                ETH-USD     GC=F          MSFT  \n",
       "Date                                            \n",
       "2017-11-09    893249984  18.0000 21178400.0000  \n",
       "2017-11-10    885985984  10.0000 19397800.0000  \n",
       "2017-11-11    842300992      NaN           NaN  \n",
       "2017-11-12   1613479936      NaN           NaN  \n",
       "2017-11-13   1041889984   3.0000 14196900.0000  \n",
       "...                 ...      ...           ...  \n",
       "2021-06-26  20637542361      NaN           NaN  \n",
       "2021-06-27  19885474742      NaN           NaN  \n",
       "2021-06-28  25514602841 888.0000 19590000.0000  \n",
       "2021-06-29  24815124419 419.0000 19937800.0000  \n",
       "2021-06-30  25828056268  51.0000           NaN  \n",
       "\n",
       "[1330 rows x 30 columns]"
      ]
     },
     "execution_count": 9,
     "metadata": {},
     "output_type": "execute_result"
    }
   ],
   "source": [
    "df"
   ]
  },
  {
   "cell_type": "code",
   "execution_count": 10,
   "id": "a0d553b8",
   "metadata": {},
   "outputs": [],
   "source": [
    "#Se procede a seleccionar unicamente los precios de cierre de los distintos activos analizados. \n",
    "close = df.Close.copy()"
   ]
  },
  {
   "cell_type": "code",
   "execution_count": 11,
   "id": "4e2e987d",
   "metadata": {},
   "outputs": [
    {
     "data": {
      "text/html": [
       "<div>\n",
       "<style scoped>\n",
       "    .dataframe tbody tr th:only-of-type {\n",
       "        vertical-align: middle;\n",
       "    }\n",
       "\n",
       "    .dataframe tbody tr th {\n",
       "        vertical-align: top;\n",
       "    }\n",
       "\n",
       "    .dataframe thead th {\n",
       "        text-align: right;\n",
       "    }\n",
       "</style>\n",
       "<table border=\"1\" class=\"dataframe\">\n",
       "  <thead>\n",
       "    <tr style=\"text-align: right;\">\n",
       "      <th></th>\n",
       "      <th>AAPL</th>\n",
       "      <th>BTC-USD</th>\n",
       "      <th>ETH-USD</th>\n",
       "      <th>GC=F</th>\n",
       "      <th>MSFT</th>\n",
       "    </tr>\n",
       "  </thead>\n",
       "  <tbody>\n",
       "    <tr>\n",
       "      <th>count</th>\n",
       "      <td>914.0000</td>\n",
       "      <td>1330.0000</td>\n",
       "      <td>1330.0000</td>\n",
       "      <td>914.0000</td>\n",
       "      <td>914.0000</td>\n",
       "    </tr>\n",
       "    <tr>\n",
       "      <th>mean</th>\n",
       "      <td>72.7223</td>\n",
       "      <td>13904.6879</td>\n",
       "      <td>570.4281</td>\n",
       "      <td>1514.9268</td>\n",
       "      <td>153.0589</td>\n",
       "    </tr>\n",
       "    <tr>\n",
       "      <th>std</th>\n",
       "      <td>32.5570</td>\n",
       "      <td>13686.6155</td>\n",
       "      <td>683.8413</td>\n",
       "      <td>249.0023</td>\n",
       "      <td>53.3924</td>\n",
       "    </tr>\n",
       "    <tr>\n",
       "      <th>min</th>\n",
       "      <td>35.5475</td>\n",
       "      <td>3236.7617</td>\n",
       "      <td>84.3083</td>\n",
       "      <td>1176.2000</td>\n",
       "      <td>81.0800</td>\n",
       "    </tr>\n",
       "    <tr>\n",
       "      <th>25%</th>\n",
       "      <td>46.6369</td>\n",
       "      <td>6787.2974</td>\n",
       "      <td>181.3659</td>\n",
       "      <td>1291.6000</td>\n",
       "      <td>106.8100</td>\n",
       "    </tr>\n",
       "    <tr>\n",
       "      <th>50%</th>\n",
       "      <td>55.7738</td>\n",
       "      <td>9080.2622</td>\n",
       "      <td>274.3331</td>\n",
       "      <td>1472.9500</td>\n",
       "      <td>137.7800</td>\n",
       "    </tr>\n",
       "    <tr>\n",
       "      <th>75%</th>\n",
       "      <td>106.6950</td>\n",
       "      <td>11644.7502</td>\n",
       "      <td>601.7328</td>\n",
       "      <td>1752.7000</td>\n",
       "      <td>205.0400</td>\n",
       "    </tr>\n",
       "    <tr>\n",
       "      <th>max</th>\n",
       "      <td>143.1600</td>\n",
       "      <td>63503.4570</td>\n",
       "      <td>4168.7012</td>\n",
       "      <td>2051.5000</td>\n",
       "      <td>271.4000</td>\n",
       "    </tr>\n",
       "  </tbody>\n",
       "</table>\n",
       "</div>"
      ],
      "text/plain": [
       "          AAPL    BTC-USD   ETH-USD      GC=F     MSFT\n",
       "count 914.0000  1330.0000 1330.0000  914.0000 914.0000\n",
       "mean   72.7223 13904.6879  570.4281 1514.9268 153.0589\n",
       "std    32.5570 13686.6155  683.8413  249.0023  53.3924\n",
       "min    35.5475  3236.7617   84.3083 1176.2000  81.0800\n",
       "25%    46.6369  6787.2974  181.3659 1291.6000 106.8100\n",
       "50%    55.7738  9080.2622  274.3331 1472.9500 137.7800\n",
       "75%   106.6950 11644.7502  601.7328 1752.7000 205.0400\n",
       "max   143.1600 63503.4570 4168.7012 2051.5000 271.4000"
      ]
     },
     "execution_count": 11,
     "metadata": {},
     "output_type": "execute_result"
    }
   ],
   "source": [
    "close.describe()"
   ]
  },
  {
   "cell_type": "code",
   "execution_count": 12,
   "id": "509b59d9",
   "metadata": {},
   "outputs": [
    {
     "data": {
      "text/plain": [
       "<function matplotlib.pyplot.show(close=None, block=None)>"
      ]
     },
     "execution_count": 12,
     "metadata": {},
     "output_type": "execute_result"
    },
    {
     "data": {
      "image/png": "[encoded data removed]",
      "text/plain": [
       "<Figure size 1080x576 with 1 Axes>"
      ]
     },
     "metadata": {
      "needs_background": "light"
     },
     "output_type": "display_data"
    }
   ],
   "source": [
    "close.dropna().plot(figsize = (15,8), fontsize = 13)\n",
    "plt.legend(fontsize = 13)\n",
    "plt.show"
   ]
  },
  {
   "cell_type": "markdown",
   "id": "a0ba51ac",
   "metadata": {},
   "source": [
    "<div style=\"margin-left: 25px;text-align: left; font-size: large;\" >\n",
    "    <font face=\"Arial\" style=\"font-size: large;\">\n",
    "      <table align=\"center\" style=\"text-align: left;\">\n",
    "        <tbody>\n",
    "          <tr bgcolor=\"#F7ECDE\">\n",
    "            <td style=\"text-align: left; font-size: medium;line-height: 30px;\">Para poder analizar la información de distintos activos financieros, lo correcto que debe suceder es la normalización. El objetivo de la normalización de datos es garantizar que los datos sean similares en todos los registros. También es necesario para mantener la integridad de los datos y crear una única fuente de información. Como se puede observar en el gráfico anterior, todo parece indicar que BTC además de tener más volatilidad, también tiene un rendimiento superior a los demás activos, sin embargo, esto no es correcto, ya que el rendimiento no se analiza utilizando los precios como tal, sino el rendimiento compuesto de sus fluctuaciones a través de un periodo de tiempo determinado. Por lo tanto, como ya se mencionó, para iniciar con el análisis, vamos a normalizar los precios de los distintos activos para poder compararlos en una misma escala y poder apreciarlos desde una perspectiva similar:\n",
    "            </td>\n",
    "          </tr>\n",
    "        </tbody>\n",
    "      </table>\n",
    "    </font>\n",
    "  </div>"
   ]
  },
  {
   "cell_type": "code",
   "execution_count": 13,
   "id": "574c5d75",
   "metadata": {},
   "outputs": [],
   "source": [
    "#Para normalizar se dividen todos los precios entre el primer precio y se multiplica por 100, de esta forma se obtiene \n",
    "#la normalización de los precios. \n",
    "norm = close.div(close.iloc[0]).mul(100)"
   ]
  },
  {
   "cell_type": "code",
   "execution_count": 14,
   "id": "ebaae239",
   "metadata": {},
   "outputs": [
    {
     "data": {
      "text/html": [
       "<div>\n",
       "<style scoped>\n",
       "    .dataframe tbody tr th:only-of-type {\n",
       "        vertical-align: middle;\n",
       "    }\n",
       "\n",
       "    .dataframe tbody tr th {\n",
       "        vertical-align: top;\n",
       "    }\n",
       "\n",
       "    .dataframe thead th {\n",
       "        text-align: right;\n",
       "    }\n",
       "</style>\n",
       "<table border=\"1\" class=\"dataframe\">\n",
       "  <thead>\n",
       "    <tr style=\"text-align: right;\">\n",
       "      <th></th>\n",
       "      <th>AAPL</th>\n",
       "      <th>BTC-USD</th>\n",
       "      <th>ETH-USD</th>\n",
       "      <th>GC=F</th>\n",
       "      <th>MSFT</th>\n",
       "    </tr>\n",
       "    <tr>\n",
       "      <th>Date</th>\n",
       "      <th></th>\n",
       "      <th></th>\n",
       "      <th></th>\n",
       "      <th></th>\n",
       "      <th></th>\n",
       "    </tr>\n",
       "  </thead>\n",
       "  <tbody>\n",
       "    <tr>\n",
       "      <th>2017-11-09</th>\n",
       "      <td>100.0000</td>\n",
       "      <td>100.0000</td>\n",
       "      <td>100.0000</td>\n",
       "      <td>100.0000</td>\n",
       "      <td>100.0000</td>\n",
       "    </tr>\n",
       "    <tr>\n",
       "      <th>2017-11-10</th>\n",
       "      <td>99.3120</td>\n",
       "      <td>92.6446</td>\n",
       "      <td>93.2589</td>\n",
       "      <td>98.9732</td>\n",
       "      <td>99.7384</td>\n",
       "    </tr>\n",
       "    <tr>\n",
       "      <th>2017-11-11</th>\n",
       "      <td>NaN</td>\n",
       "      <td>88.9974</td>\n",
       "      <td>98.0669</td>\n",
       "      <td>NaN</td>\n",
       "      <td>NaN</td>\n",
       "    </tr>\n",
       "    <tr>\n",
       "      <th>2017-11-12</th>\n",
       "      <td>NaN</td>\n",
       "      <td>83.2925</td>\n",
       "      <td>95.9562</td>\n",
       "      <td>NaN</td>\n",
       "      <td>NaN</td>\n",
       "    </tr>\n",
       "    <tr>\n",
       "      <th>2017-11-13</th>\n",
       "      <td>98.9140</td>\n",
       "      <td>91.8236</td>\n",
       "      <td>98.7011</td>\n",
       "      <td>99.3544</td>\n",
       "      <td>99.8097</td>\n",
       "    </tr>\n",
       "    <tr>\n",
       "      <th>...</th>\n",
       "      <td>...</td>\n",
       "      <td>...</td>\n",
       "      <td>...</td>\n",
       "      <td>...</td>\n",
       "      <td>...</td>\n",
       "    </tr>\n",
       "    <tr>\n",
       "      <th>2021-06-26</th>\n",
       "      <td>NaN</td>\n",
       "      <td>450.5623</td>\n",
       "      <td>570.0625</td>\n",
       "      <td>NaN</td>\n",
       "      <td>NaN</td>\n",
       "    </tr>\n",
       "    <tr>\n",
       "      <th>2021-06-27</th>\n",
       "      <td>NaN</td>\n",
       "      <td>485.0459</td>\n",
       "      <td>616.7009</td>\n",
       "      <td>NaN</td>\n",
       "      <td>NaN</td>\n",
       "    </tr>\n",
       "    <tr>\n",
       "      <th>2021-06-28</th>\n",
       "      <td>306.5272</td>\n",
       "      <td>482.0319</td>\n",
       "      <td>648.1026</td>\n",
       "      <td>138.4256</td>\n",
       "      <td>319.5624</td>\n",
       "    </tr>\n",
       "    <tr>\n",
       "      <th>2021-06-29</th>\n",
       "      <td>310.0523</td>\n",
       "      <td>502.0981</td>\n",
       "      <td>673.3799</td>\n",
       "      <td>137.1189</td>\n",
       "      <td>322.7494</td>\n",
       "    </tr>\n",
       "    <tr>\n",
       "      <th>2021-06-30</th>\n",
       "      <td>NaN</td>\n",
       "      <td>490.5221</td>\n",
       "      <td>708.8380</td>\n",
       "      <td>137.7411</td>\n",
       "      <td>NaN</td>\n",
       "    </tr>\n",
       "  </tbody>\n",
       "</table>\n",
       "<p>1330 rows × 5 columns</p>\n",
       "</div>"
      ],
      "text/plain": [
       "               AAPL  BTC-USD  ETH-USD     GC=F     MSFT\n",
       "Date                                                   \n",
       "2017-11-09 100.0000 100.0000 100.0000 100.0000 100.0000\n",
       "2017-11-10  99.3120  92.6446  93.2589  98.9732  99.7384\n",
       "2017-11-11      NaN  88.9974  98.0669      NaN      NaN\n",
       "2017-11-12      NaN  83.2925  95.9562      NaN      NaN\n",
       "2017-11-13  98.9140  91.8236  98.7011  99.3544  99.8097\n",
       "...             ...      ...      ...      ...      ...\n",
       "2021-06-26      NaN 450.5623 570.0625      NaN      NaN\n",
       "2021-06-27      NaN 485.0459 616.7009      NaN      NaN\n",
       "2021-06-28 306.5272 482.0319 648.1026 138.4256 319.5624\n",
       "2021-06-29 310.0523 502.0981 673.3799 137.1189 322.7494\n",
       "2021-06-30      NaN 490.5221 708.8380 137.7411      NaN\n",
       "\n",
       "[1330 rows x 5 columns]"
      ]
     },
     "execution_count": 14,
     "metadata": {},
     "output_type": "execute_result"
    }
   ],
   "source": [
    "norm"
   ]
  },
  {
   "cell_type": "code",
   "execution_count": 15,
   "id": "6f6c30a5",
   "metadata": {},
   "outputs": [
    {
     "data": {
      "text/plain": [
       "<function matplotlib.pyplot.show(close=None, block=None)>"
      ]
     },
     "execution_count": 15,
     "metadata": {},
     "output_type": "execute_result"
    },
    {
     "data": {
      "image/png": "[encoded data removed]",
      "text/plain": [
       "<Figure size 1080x576 with 1 Axes>"
      ]
     },
     "metadata": {
      "needs_background": "light"
     },
     "output_type": "display_data"
    }
   ],
   "source": [
    "norm.dropna().plot(figsize = (15,8), fontsize = 13)\n",
    "plt.legend(fontsize = 13)\n",
    "plt.show"
   ]
  },
  {
   "cell_type": "markdown",
   "id": "dcf641e4",
   "metadata": {},
   "source": [
    "<div style=\"margin-left: 25px;text-align: left; font-size: large;\" >\n",
    "    <font face=\"Arial\" style=\"font-size: large;\">\n",
    "      <table align=\"center\" style=\"text-align: left;\">\n",
    "        <tbody>\n",
    "          <tr bgcolor=\"#F7ECDE\">\n",
    "            <td style=\"text-align: left; font-size: medium;line-height: 30px;\">Luego de normalizar todos los precios, podemos\n",
    "            ver que los activos más volátiles, son claramente las criptomonedas, lo cual se traduce en que también son los \n",
    "            activos más riesgosos dentro de esta lista de 5 activos. Por otro lado, hay una máxima dentro del mundo financiero\n",
    "            que indica que a más riesgo debe existir más retorno, lo cual con base en el gráfico anterior parece solo cumplirse durante 2021 e inicios del 2018, suponiendo que el precio sea un indicador de rendimiento, sin embargo, como se mencionó anteriormente no lo es asi, pero este gráfico nos deja comparar la volatidad y el riesgo que tienen las criptomonedas en comparación con Wallstreet. Por tanto, se concluye que si, efectivamente hay un riesgo implícito en el mercado de las criptomonedas \n",
    "            mucho mayor que el mercado bursátil tradicional. \n",
    "            </br>\n",
    "            Esto no implica que los otros mercados no tengan riesgo, ya que ambos poseen riesgos, y a pesar de la regulación que ha existido en el mercado del oro y bursátil, de igual manera siempre se ha presenciado a través de la historia crisis financieras y caídas de los precios aunado a volatilidad, como se puede notar por la crisis de 1929, o la del 2008 y en el caso del oro, el \"Black Friday\" de 1869, sin embargo, el hecho de que sean mercados más maduros y con más regulación que el de las criptomonedas, les genera menor volatilidad y riesgo implícito. \n",
    "            </br>\n",
    "            Que tanto riesgo existe en ambos mercados es lo que vamos a tratar de responder en la siguiente sección, y posteriormente se mostrarán estrategias para mitigar el riesgo utilizando conceptos básicos y que provienen de la teoría de análisis de portafolio de Harry Markovitz. \n",
    "            </td>\n",
    "          </tr>\n",
    "        </tbody>\n",
    "      </table>\n",
    "    </font>\n",
    "  </div>"
   ]
  },
  {
   "cell_type": "code",
   "execution_count": 32,
   "id": "defabee3",
   "metadata": {},
   "outputs": [],
   "source": [
    "#Seleccionaremos bitcoin de nuestro dataframe para proceder con el calculo del retorno utilizando la funcion logaritmica, \n",
    "#que es la más adecuada para este tipo de ejercicio. \n",
    "bitcoin = close['BTC-USD'].dropna().to_frame().copy()"
   ]
  },
  {
   "cell_type": "code",
   "execution_count": 33,
   "id": "7ff7703f",
   "metadata": {},
   "outputs": [
    {
     "data": {
      "text/html": [
       "<div>\n",
       "<style scoped>\n",
       "    .dataframe tbody tr th:only-of-type {\n",
       "        vertical-align: middle;\n",
       "    }\n",
       "\n",
       "    .dataframe tbody tr th {\n",
       "        vertical-align: top;\n",
       "    }\n",
       "\n",
       "    .dataframe thead th {\n",
       "        text-align: right;\n",
       "    }\n",
       "</style>\n",
       "<table border=\"1\" class=\"dataframe\">\n",
       "  <thead>\n",
       "    <tr style=\"text-align: right;\">\n",
       "      <th></th>\n",
       "      <th>BTC-USD</th>\n",
       "    </tr>\n",
       "    <tr>\n",
       "      <th>Date</th>\n",
       "      <th></th>\n",
       "    </tr>\n",
       "  </thead>\n",
       "  <tbody>\n",
       "    <tr>\n",
       "      <th>2017-11-09</th>\n",
       "      <td>7143.5801</td>\n",
       "    </tr>\n",
       "    <tr>\n",
       "      <th>2017-11-10</th>\n",
       "      <td>6618.1401</td>\n",
       "    </tr>\n",
       "    <tr>\n",
       "      <th>2017-11-11</th>\n",
       "      <td>6357.6001</td>\n",
       "    </tr>\n",
       "    <tr>\n",
       "      <th>2017-11-12</th>\n",
       "      <td>5950.0698</td>\n",
       "    </tr>\n",
       "    <tr>\n",
       "      <th>2017-11-13</th>\n",
       "      <td>6559.4902</td>\n",
       "    </tr>\n",
       "    <tr>\n",
       "      <th>...</th>\n",
       "      <td>...</td>\n",
       "    </tr>\n",
       "    <tr>\n",
       "      <th>2021-06-26</th>\n",
       "      <td>32186.2773</td>\n",
       "    </tr>\n",
       "    <tr>\n",
       "      <th>2021-06-27</th>\n",
       "      <td>34649.6445</td>\n",
       "    </tr>\n",
       "    <tr>\n",
       "      <th>2021-06-28</th>\n",
       "      <td>34434.3359</td>\n",
       "    </tr>\n",
       "    <tr>\n",
       "      <th>2021-06-29</th>\n",
       "      <td>35867.7773</td>\n",
       "    </tr>\n",
       "    <tr>\n",
       "      <th>2021-06-30</th>\n",
       "      <td>35040.8359</td>\n",
       "    </tr>\n",
       "  </tbody>\n",
       "</table>\n",
       "<p>1330 rows × 1 columns</p>\n",
       "</div>"
      ],
      "text/plain": [
       "              BTC-USD\n",
       "Date                 \n",
       "2017-11-09  7143.5801\n",
       "2017-11-10  6618.1401\n",
       "2017-11-11  6357.6001\n",
       "2017-11-12  5950.0698\n",
       "2017-11-13  6559.4902\n",
       "...               ...\n",
       "2021-06-26 32186.2773\n",
       "2021-06-27 34649.6445\n",
       "2021-06-28 34434.3359\n",
       "2021-06-29 35867.7773\n",
       "2021-06-30 35040.8359\n",
       "\n",
       "[1330 rows x 1 columns]"
      ]
     },
     "execution_count": 33,
     "metadata": {},
     "output_type": "execute_result"
    }
   ],
   "source": [
    "bitcoin"
   ]
  },
  {
   "cell_type": "code",
   "execution_count": 34,
   "id": "af834a4a",
   "metadata": {},
   "outputs": [],
   "source": [
    "bitcoin.rename(columns = {'BTC-USD' : 'Price'}, inplace = True)"
   ]
  },
  {
   "cell_type": "code",
   "execution_count": 35,
   "id": "b2b358fe",
   "metadata": {},
   "outputs": [],
   "source": [
    "#Funcion logarítmica que analiza los cambios en los precios para determinar el rendimiento. \n",
    "bitcoin['Return'] = np.log(bitcoin.Price / bitcoin.Price.shift(1))"
   ]
  },
  {
   "cell_type": "markdown",
   "id": "03c58ad9",
   "metadata": {},
   "source": [
    "<div style=\"margin-left: 25px;text-align: left; font-size: large;\" >\n",
    "    <font face=\"Arial\" style=\"font-size: large;\">\n",
    "      <table align=\"center\" style=\"text-align: left;\">\n",
    "        <tbody>\n",
    "          <tr bgcolor=\"#F7ECDE\">\n",
    "            <td style=\"text-align: left; font-size: medium;line-height: 30px;\">Hay dos puntos principales que segun \"medium.com\" generan un valor agregado de utilizar retornos logaritmicos en contraposicion con retornos aritméticos y son los siguientes:<ul>\n",
    "                <li>Simetría: \"El pensamiento simple para recordar es que los rendimientos logarítmicos son simétricos, mientras que los rendimientos aritméticos no lo son.\n",
    "\n",
    "En términos de rendimientos aritméticos, una pérdida del 50 % en las acciones no significa que una ganancia del 50 % borrará la pérdida. Por ejemplo, su inversión inicial de 100 se reduce a 50, lo que representa una pérdida del 50 %. Para volver a su capital inicial, necesitaría obtener una ganancia del 100 % de los 50 que le quedan. Una ganancia del 50% solo aumentaría tus 50 a 75.\n",
    "\n",
    "Por otro lado, en relación con los rendimientos logarítmicos, si gana el 50 % de su inversión de 100 y luego pierde el 50 %, volverá al punto de partida: con el billete de 100. Este es el caso porque la función logarítmica varía de infinito negativo (-∞) a infinito positivo (+∞). Para los rendimientos aritméticos, la ventaja también es ilimitada, pero la mayor desventaja posible es -100%.\n",
    "\n",
    "La simetría conduce a la siguiente diferencia clave en la que los retornos de logaritmos se pueden sumar a lo largo del tiempo, mientras que los retornos simples no.\" <a href=\"https://medium.com/@Piotr_Szymanski/arithmetic-vs-log-stock-returns-in-python-7f7c3cff125\">medium.com</a></li><li>Actividad del tiempo: \"Dado que los rendimientos logarítmicos se capitalizan continuamente entre los períodos, se pueden sumar los rendimientos. Si tiene un período completo compuesto por subperíodos (es decir, días que suman un año), los subperíodos se pueden agregar para obtener un rendimiento del período.\n",
    "\n",
    "Por ejemplo, supongamos que en el año 1 el precio aumenta de 100 a 110 y luego a 120 en el año 2. Los rendimientos simples para los subperíodos serían 10% y 9.09%, respectivamente. Si los suma, la suma es del 19,09 %, pero el rendimiento real del período es del 20 %. No aditivo de tiempo.\n",
    "\n",
    "Los retornos logarítmicos serían 9,53% y 8,70%, respectivamente, lo que suma 18,23%. El rendimiento para el período de 2 años también es del 18,23%. Los retornos de registro son aditivos en el tiempo.\n",
    "\n",
    "Tenga en cuenta que la adición de tiempo solo se aplica a los rendimientos de registro en un activo individual. No se puede aplicar a una cartera de acciones.\"<a href=\"https://medium.com/@Piotr_Szymanski/arithmetic-vs-log-stock-returns-in-python-7f7c3cff125\">medium.com</a></li>\n",
    "                </ul>\n",
    "            </td>\n",
    "          </tr>\n",
    "        </tbody>\n",
    "      </table>\n",
    "    </font>\n",
    "  </div>"
   ]
  },
  {
   "cell_type": "code",
   "execution_count": 36,
   "id": "001ecbc9",
   "metadata": {},
   "outputs": [
    {
     "data": {
      "text/html": [
       "<div>\n",
       "<style scoped>\n",
       "    .dataframe tbody tr th:only-of-type {\n",
       "        vertical-align: middle;\n",
       "    }\n",
       "\n",
       "    .dataframe tbody tr th {\n",
       "        vertical-align: top;\n",
       "    }\n",
       "\n",
       "    .dataframe thead th {\n",
       "        text-align: right;\n",
       "    }\n",
       "</style>\n",
       "<table border=\"1\" class=\"dataframe\">\n",
       "  <thead>\n",
       "    <tr style=\"text-align: right;\">\n",
       "      <th></th>\n",
       "      <th>Price</th>\n",
       "      <th>Return</th>\n",
       "    </tr>\n",
       "    <tr>\n",
       "      <th>Date</th>\n",
       "      <th></th>\n",
       "      <th></th>\n",
       "    </tr>\n",
       "  </thead>\n",
       "  <tbody>\n",
       "    <tr>\n",
       "      <th>2017-11-09</th>\n",
       "      <td>7143.5801</td>\n",
       "      <td>NaN</td>\n",
       "    </tr>\n",
       "    <tr>\n",
       "      <th>2017-11-10</th>\n",
       "      <td>6618.1401</td>\n",
       "      <td>-0.0764</td>\n",
       "    </tr>\n",
       "    <tr>\n",
       "      <th>2017-11-11</th>\n",
       "      <td>6357.6001</td>\n",
       "      <td>-0.0402</td>\n",
       "    </tr>\n",
       "    <tr>\n",
       "      <th>2017-11-12</th>\n",
       "      <td>5950.0698</td>\n",
       "      <td>-0.0662</td>\n",
       "    </tr>\n",
       "    <tr>\n",
       "      <th>2017-11-13</th>\n",
       "      <td>6559.4902</td>\n",
       "      <td>0.0975</td>\n",
       "    </tr>\n",
       "    <tr>\n",
       "      <th>...</th>\n",
       "      <td>...</td>\n",
       "      <td>...</td>\n",
       "    </tr>\n",
       "    <tr>\n",
       "      <th>2021-06-26</th>\n",
       "      <td>32186.2773</td>\n",
       "      <td>0.0172</td>\n",
       "    </tr>\n",
       "    <tr>\n",
       "      <th>2021-06-27</th>\n",
       "      <td>34649.6445</td>\n",
       "      <td>0.0737</td>\n",
       "    </tr>\n",
       "    <tr>\n",
       "      <th>2021-06-28</th>\n",
       "      <td>34434.3359</td>\n",
       "      <td>-0.0062</td>\n",
       "    </tr>\n",
       "    <tr>\n",
       "      <th>2021-06-29</th>\n",
       "      <td>35867.7773</td>\n",
       "      <td>0.0408</td>\n",
       "    </tr>\n",
       "    <tr>\n",
       "      <th>2021-06-30</th>\n",
       "      <td>35040.8359</td>\n",
       "      <td>-0.0233</td>\n",
       "    </tr>\n",
       "  </tbody>\n",
       "</table>\n",
       "<p>1330 rows × 2 columns</p>\n",
       "</div>"
      ],
      "text/plain": [
       "                Price  Return\n",
       "Date                         \n",
       "2017-11-09  7143.5801     NaN\n",
       "2017-11-10  6618.1401 -0.0764\n",
       "2017-11-11  6357.6001 -0.0402\n",
       "2017-11-12  5950.0698 -0.0662\n",
       "2017-11-13  6559.4902  0.0975\n",
       "...               ...     ...\n",
       "2021-06-26 32186.2773  0.0172\n",
       "2021-06-27 34649.6445  0.0737\n",
       "2021-06-28 34434.3359 -0.0062\n",
       "2021-06-29 35867.7773  0.0408\n",
       "2021-06-30 35040.8359 -0.0233\n",
       "\n",
       "[1330 rows x 2 columns]"
      ]
     },
     "execution_count": 36,
     "metadata": {},
     "output_type": "execute_result"
    }
   ],
   "source": [
    "bitcoin"
   ]
  },
  {
   "cell_type": "markdown",
   "id": "7ef5995f",
   "metadata": {},
   "source": [
    "<div style=\"margin-left: 25px;text-align: left; font-size: large;\" >\n",
    "    <font face=\"Arial\" style=\"font-size: large;\">\n",
    "      <table align=\"center\" style=\"text-align: left;\">\n",
    "        <tbody>\n",
    "          <tr bgcolor=\"#F7ECDE\">\n",
    "            <td style=\"text-align: left; font-size: medium;line-height: 30px;\">Ahora se procederá a obtener el rendimiento de los demás activos en nuestro análisis para poder contrastarlos entre ellos, y se debe tener en cuenta que también se utilizará el retorno logarítmico. Se repetirá el mismo procedimiento para obtener la información y seguidamente se compararán sus retornos anuales en el periodo de tiempo descrito. Como se puede leer, de esta descripción el único paso nuevo es anualizar el retorno, el cual se realizará obteniendo la media aritmética de la columna Retorno multiplicado por 250, que es usualmente la cantidad de días activos desde la perspectiva bursátil que posee un año </td>\n",
    "          </tr>\n",
    "        </tbody>\n",
    "      </table>\n",
    "    </font>\n",
    "  </div>"
   ]
  },
  {
   "cell_type": "code",
   "execution_count": 37,
   "id": "258c60a8",
   "metadata": {},
   "outputs": [],
   "source": [
    "apple = close['AAPL'].dropna().to_frame().copy()"
   ]
  },
  {
   "cell_type": "code",
   "execution_count": 38,
   "id": "e594d46d",
   "metadata": {},
   "outputs": [],
   "source": [
    "apple.rename(columns = {'AAPL' : 'Price'}, inplace = True)"
   ]
  },
  {
   "cell_type": "code",
   "execution_count": 39,
   "id": "466e0737",
   "metadata": {},
   "outputs": [],
   "source": [
    "apple['Return'] = np.log(apple.Price / apple.Price.shift(1))"
   ]
  },
  {
   "cell_type": "code",
   "execution_count": 40,
   "id": "0d88d406",
   "metadata": {},
   "outputs": [],
   "source": [
    "microsoft = close['MSFT'].dropna().to_frame().copy()"
   ]
  },
  {
   "cell_type": "code",
   "execution_count": 41,
   "id": "bccb5807",
   "metadata": {},
   "outputs": [],
   "source": [
    "microsoft.rename(columns = {'MSFT' : 'Price'}, inplace = True)"
   ]
  },
  {
   "cell_type": "code",
   "execution_count": 42,
   "id": "4830eaca",
   "metadata": {},
   "outputs": [],
   "source": [
    "microsoft['Return'] = np.log(microsoft.Price / microsoft.Price.shift(1))"
   ]
  },
  {
   "cell_type": "code",
   "execution_count": 43,
   "id": "e01e74d4",
   "metadata": {},
   "outputs": [],
   "source": [
    "eth = close['ETH-USD'].dropna().to_frame().copy()"
   ]
  },
  {
   "cell_type": "code",
   "execution_count": 44,
   "id": "3402a92c",
   "metadata": {},
   "outputs": [],
   "source": [
    "eth.rename(columns = {'ETH-USD' : 'Price'}, inplace = True)"
   ]
  },
  {
   "cell_type": "code",
   "execution_count": 45,
   "id": "4d5c627a",
   "metadata": {},
   "outputs": [],
   "source": [
    "eth['Return'] = np.log(eth.Price / eth.Price.shift(1))"
   ]
  },
  {
   "cell_type": "markdown",
   "id": "ecbc139d",
   "metadata": {},
   "source": [
    "<div style=\"margin-left: 25px;text-align: left; font-size: large;\" >\n",
    "    <font face=\"Arial\" style=\"font-size: large;\">\n",
    "      <table align=\"center\" style=\"text-align: left;\">\n",
    "        <tbody>\n",
    "          <tr bgcolor=\"#F7ECDE\">\n",
    "            <td style=\"text-align: left; font-size: medium;line-height: 30px;\">Retorno anualizado, como se explicó anteriormente, se obtiene la media de la columna de retornos y luego se multiplica por 250, sin embargo, en el caso de las criptomonedas se debe multiplicar por 365, ya que el mercado bursátil de este tipo de activos permite transacciones inclusive domingos, por lo tanto, se mantiene activo todo el año, en contraposición con Wallstreet, que solo opera de Lunes a Viernes. Las criptomonedas se tranzan inclusive durante los días feriados.  </td>\n",
    "          </tr>\n",
    "        </tbody>\n",
    "      </table>\n",
    "    </font>\n",
    "  </div>"
   ]
  },
  {
   "cell_type": "code",
   "execution_count": 46,
   "id": "2c52b180",
   "metadata": {},
   "outputs": [
    {
     "data": {
      "text/plain": [
       "0.4367641249017192"
      ]
     },
     "execution_count": 46,
     "metadata": {},
     "output_type": "execute_result"
    }
   ],
   "source": [
    "#Retorno anualizado para bitcoin\n",
    "ann_bitcoin_return = pd.to_numeric(bitcoin['Return']).mean() * 365\n",
    "ann_bitcoin_return"
   ]
  },
  {
   "cell_type": "code",
   "execution_count": 47,
   "id": "5af1ed15",
   "metadata": {},
   "outputs": [
    {
     "data": {
      "text/plain": [
       "0.30984962203564753"
      ]
     },
     "execution_count": 47,
     "metadata": {},
     "output_type": "execute_result"
    }
   ],
   "source": [
    "#Retorno anualizado para apple\n",
    "ann_apple_return = pd.to_numeric(apple['Return']).mean() * 250\n",
    "ann_apple_return"
   ]
  },
  {
   "cell_type": "code",
   "execution_count": 48,
   "id": "44d9365f",
   "metadata": {},
   "outputs": [
    {
     "data": {
      "text/plain": [
       "0.3208395713627699"
      ]
     },
     "execution_count": 48,
     "metadata": {},
     "output_type": "execute_result"
    }
   ],
   "source": [
    "#Retorno anualizado para microsoft\n",
    "ann_microsoft_return = pd.to_numeric(microsoft['Return']).mean() * 250\n",
    "ann_microsoft_return"
   ]
  },
  {
   "cell_type": "code",
   "execution_count": 52,
   "id": "460a9385",
   "metadata": {},
   "outputs": [
    {
     "data": {
      "text/plain": [
       "0.537875634480165"
      ]
     },
     "execution_count": 52,
     "metadata": {},
     "output_type": "execute_result"
    }
   ],
   "source": [
    "#Retorno anualizado para Ethereum\n",
    "ann_eth_return = pd.to_numeric(eth['Return']).mean() * 365\n",
    "ann_eth_return"
   ]
  },
  {
   "cell_type": "code",
   "execution_count": 53,
   "id": "4a7df704",
   "metadata": {},
   "outputs": [],
   "source": [
    "returns = list([ann_bitcoin_return, ann_eth_return, ann_microsoft_return, ann_apple_return])\n",
    "assets = list(['BTC','ETH','Microsoft','Apple'])"
   ]
  },
  {
   "cell_type": "code",
   "execution_count": 54,
   "id": "c5fdd14a",
   "metadata": {},
   "outputs": [
    {
     "data": {
      "image/png": "[encoded data removed]",
      "text/plain": [
       "<Figure size 720x360 with 1 Axes>"
      ]
     },
     "metadata": {
      "needs_background": "light"
     },
     "output_type": "display_data"
    }
   ],
   "source": [
    "fig = plt.figure(figsize = (10, 5))\n",
    "plt.bar(assets, returns, color ='maroon',\n",
    "        width = 0.4)\n",
    " \n",
    "plt.xlabel(\"Activos\")\n",
    "plt.ylabel(\"Retorno\")\n",
    "plt.title(\"Activos y Retornos en tiempo dado\")\n",
    "plt.show()"
   ]
  },
  {
   "cell_type": "markdown",
   "id": "2a7dddfc",
   "metadata": {},
   "source": [
    "<div style=\"margin-left: 25px;text-align: left; font-size: large;\" >\n",
    "    <font face=\"Arial\" style=\"font-size: large;\">\n",
    "      <table align=\"center\" style=\"text-align: left;\">\n",
    "        <tbody>\n",
    "          <tr bgcolor=\"#F7ECDE\">\n",
    "            <td style=\"text-align: left; font-size: medium;line-height: 30px;\">Lo primero y más visible del anterior gráfico, es la correlación entre riesgo y rendimiento, que presenta un ejemplo clásico de la máxima financiera, de que a más riesgo debe existir más rendimiento. Se puede ver como BTC y ETH tienen un rendimiento de 43% y 53% respectivamente, seguidos de Microsoft y Apple con 32% y 30% respectivamente. Cabe resaltar que no siempre el riesgo es compensado con más rendimiento, y si se realizará el mismo análisis expuesto hasta el momento muy probablemente no se vería esta relación, porque ambas criptomonedas durante los últimos meses del 2022 han tenido un rendimiento sumamente negativo y la volatilidad implícita se ha mantenido, por lo tanto, es probable que no se vea la misma relación, pero al año 2021 si se puede apreciar una correlación positiva de riesgo y rendimiento. </td>\n",
    "          </tr>\n",
    "        </tbody>\n",
    "      </table>\n",
    "    </font>\n",
    "  </div>"
   ]
  },
  {
   "cell_type": "code",
   "execution_count": 55,
   "id": "bc89b184",
   "metadata": {},
   "outputs": [],
   "source": [
    "#Se procedera a obtener el factor multiplicado de cada activo, la definicion del mismo se brindará una vez analizado el\n",
    "#siguiente gráfico. \n",
    "multiple_microsoft = (microsoft.Price[-1] / microsoft.Price[0])\n",
    "multiple_apple = (apple.Price[-1] / apple.Price[0])\n",
    "multiple_btc = (bitcoin.Price[-1] / bitcoin.Price[0])\n",
    "multiple_eth = (eth.Price[-1] / eth.Price[0])"
   ]
  },
  {
   "cell_type": "code",
   "execution_count": 56,
   "id": "891a596c",
   "metadata": {},
   "outputs": [],
   "source": [
    "multiples = list([multiple_btc, multiple_eth, multiple_microsoft, multiple_apple])"
   ]
  },
  {
   "cell_type": "code",
   "execution_count": 57,
   "id": "30183ad5",
   "metadata": {},
   "outputs": [
    {
     "data": {
      "image/png": "[encoded data removed]",
      "text/plain": [
       "<Figure size 720x360 with 1 Axes>"
      ]
     },
     "metadata": {
      "needs_background": "light"
     },
     "output_type": "display_data"
    }
   ],
   "source": [
    "fig = plt.figure(figsize = (10, 5))\n",
    "plt.bar(assets, multiples, color ='maroon',\n",
    "        width = 0.4)\n",
    " \n",
    "plt.xlabel(\"Activos\")\n",
    "plt.ylabel(\"Factor multiplicador\")\n",
    "plt.title(\"Activos y sus factores multiplicadores en un tiempo dado\")\n",
    "plt.show()"
   ]
  },
  {
   "cell_type": "markdown",
   "id": "def01662",
   "metadata": {},
   "source": [
    "<div style=\"margin-left: 25px;text-align: left; font-size: large;\" >\n",
    "    <font face=\"Arial\" style=\"font-size: large;\">\n",
    "      <table align=\"center\" style=\"text-align: left;\">\n",
    "        <tbody>\n",
    "          <tr bgcolor=\"#F7ECDE\">\n",
    "            <td style=\"text-align: left; font-size: medium;line-height: 30px;\">Investopedia define el factor multiplicador con las siguientes palabras: \"El efecto multiplicador es un término económico que se refiere a la cantidad proporcional de aumento o disminución en el ingreso final que resulta de una inyección o retiro de capital. En efecto, los efectos multiplicadores miden el impacto que tendrá un cambio en la actividad económica, como la inversión o el gasto, en la producción económica total de algo. Este efecto amplificado se conoce como el multiplicador.\" <a href=\"https://www.investopedia.com/terms/m/multipliereffect.asp\"> Investopedia.com</a> </br></br>Por otro lado, en cuanto al análisis del gráfico, podemos observar como basado en la anterior definición de multiplicador, BTC quintuplico el valor invertido y ETC logro aumentar su inversión inicial por un factor multiplicador de 7 veces, mucho más del doble de Microsoft y Apple para el periodo analizado, lo cual sigue en concordancia con la máxima financiera explicada anteriormente. </td>\n",
    "          </tr>\n",
    "        </tbody>\n",
    "      </table>\n",
    "    </font>\n",
    "  </div>"
   ]
  },
  {
   "cell_type": "markdown",
   "id": "35a7ed1e",
   "metadata": {},
   "source": [
    "<div style=\"margin-left: 25px;text-align: left; font-size: large;\" >\n",
    "    <font face=\"Arial\" style=\"font-size: large;\">\n",
    "      <table align=\"center\" style=\"text-align: left;\">\n",
    "        <tbody>\n",
    "          <tr bgcolor=\"#F7ECDE\">\n",
    "            <td style=\"text-align: left; font-size: medium;line-height: 30px;\">Análisis de Riesgo\n",
    "            </td>\n",
    "          </tr>\n",
    "        </tbody>\n",
    "      </table>\n",
    "    </font>\n",
    "  </div>"
   ]
  },
  {
   "cell_type": "markdown",
   "id": "13624937",
   "metadata": {},
   "source": [
    "<div style=\"margin-left: 25px;text-align: left; font-size: large;\" >\n",
    "    <font face=\"Arial\" style=\"font-size: large;\">\n",
    "      <table align=\"center\" style=\"text-align: left;\">\n",
    "        <tbody>\n",
    "          <tr bgcolor=\"#F7ECDE\">\n",
    "            <td style=\"text-align: left; font-size: medium;line-height: 30px;\">Investopedia define el analisis de riesgo de la siguiente manera: \"El análisis de riesgos es el proceso de evaluar la probabilidad de que ocurra un evento adverso dentro del sector corporativo, gubernamental o ambiental. El análisis de riesgo es el estudio de la incertidumbre subyacente de un curso de acción determinado y se refiere a la incertidumbre de los flujos de efectivo pronosticados, la variación de la cartera o los rendimientos de las acciones, la probabilidad de éxito o fracaso de un proyecto y los posibles estados económicos futuros.\" <a href=\"https://www.investopedia.com/terms/r/risk-analysis.asp#:~:text=Risk%20analysis%20seeks%20to%20identify,assign%20numerical%20values%20to%20risk.\"> Investopedia.com</a> </br></br>El indicador por excelencia que mide el riesgo para cualquier activo financiero, es la desviación estándar, la cual es \"La desviación estándar es una estadística que mide la dispersión de un conjunto de datos en relación con su media y se calcula como la raíz cuadrada de la varianza. La desviación estándar se calcula como la raíz cuadrada de la varianza determinando la desviación de cada punto de datos con respecto a la media.\"<a href=\"https://www.investopedia.com/terms/s/standarddeviation.asp\"> Investopedia.com</a></br></br>Por lo que, se procederá a obtener la desviación estándar de nuestros activos para así iniciar el análisis de riesgo respectivo:  </td>\n",
    "          </tr>\n",
    "        </tbody>\n",
    "      </table>\n",
    "    </font>\n",
    "  </div>"
   ]
  },
  {
   "cell_type": "code",
   "execution_count": 39,
   "id": "7c1f9a09",
   "metadata": {},
   "outputs": [],
   "source": [
    "msft_std = microsoft.Return.std() * np.sqrt(252)\n",
    "apple_std = apple.Return.std() * np.sqrt(252)\n",
    "btc_std = bitcoin.Return.std() * np.sqrt(252)\n",
    "eth_std = eth.Return.std() * np.sqrt(252)"
   ]
  },
  {
   "cell_type": "code",
   "execution_count": 40,
   "id": "56c948c0",
   "metadata": {},
   "outputs": [],
   "source": [
    "stds = list([btc_std, eth_std, msft_std, apple_std])"
   ]
  },
  {
   "cell_type": "code",
   "execution_count": 41,
   "id": "86604339",
   "metadata": {},
   "outputs": [
    {
     "data": {
      "image/png": "[encoded data removed]",
      "text/plain": [
       "<Figure size 720x360 with 1 Axes>"
      ]
     },
     "metadata": {},
     "output_type": "display_data"
    }
   ],
   "source": [
    "fig = plt.figure(figsize = (10, 5))\n",
    "plt.bar(assets, stds, color ='maroon',\n",
    "        width = 0.4)\n",
    " \n",
    "plt.xlabel(\"Activos\")\n",
    "plt.ylabel(\"Riesgo\")\n",
    "plt.title(\"Activos y Riesgo respectivo de los retornos\")\n",
    "plt.show()"
   ]
  },
  {
   "cell_type": "markdown",
   "id": "96ff4252",
   "metadata": {},
   "source": [
    "<div style=\"margin-left: 25px;text-align: left; font-size: large;\" >\n",
    "    <font face=\"Arial\" style=\"font-size: large;\">\n",
    "      <table align=\"center\" style=\"text-align: left;\">\n",
    "        <tbody>\n",
    "          <tr bgcolor=\"#F7ECDE\">\n",
    "            <td style=\"text-align: left; font-size: medium;line-height: 30px;\">Por tanto, para este ejercicio se puede observar que Ethereum es el activo que brinda más riesgo pero que también consecuentemente es el que más retorno provee en el periodo analizado, cumpliendo la máxima financiera. Por otro lado, vemos inconsistencias en el activo de Microsoft, que, sin embargo, son positivas, ya que este activo brinda más retorno que el de Apple, pero también menos riesgo, haciéndolo una inversión más atractiva para el periodo de tiempo analizado que Apple, para aquellos inversores con más aversión al riesgo. En conclusión se puede observar que el mercado bursátil es menos riesgoso que el de las criptomonedas para el periodo analizado</br>Por lo tanto, el perfil de riesgo que tengan el inversor debe considerar la volatilidad de los distintos activos y reconocer que las criptomonedas como tal, en un portafolio van a aumentar el riesgo implícito, pero también el retorno de dicho portafolio, para el periodo analizado.</br>\n",
    "        Sin embargo, como se ha mencionado, el factor tiempo y las tendencias, son de gran importancia en este análisis, porque como se ha mencionado, el año 2022 quizá no muestre una correlación positiva de riesgo y rendimiento para las criptomonedas, y dichos activos podrían brindar más riesgo sin que necesariamente brinden más retorno como inversión. Por tanto se deben manejar estrategias de administración de riesgo y para esto es necesario realizar análisis de correlación entre los distintos activos e industrias. </td>\n",
    "          </tr>\n",
    "        </tbody>\n",
    "      </table>\n",
    "    </font>\n",
    "  </div>"
   ]
  },
  {
   "cell_type": "markdown",
   "id": "c7f5506d",
   "metadata": {},
   "source": [
    "<div style=\"margin-left: 25px;text-align: left; font-size: large;\" >\n",
    "    <font face=\"Arial\" style=\"font-size: large;\">\n",
    "      <table align=\"center\" style=\"text-align: left;\">\n",
    "        <tbody>\n",
    "          <tr bgcolor=\"#F7ECDE\">\n",
    "            <td style=\"text-align: left; font-size: medium;line-height: 30px;\">Correlación de Riesgo entre distintos mercados\n",
    "            </td>\n",
    "          </tr>\n",
    "        </tbody>\n",
    "      </table>\n",
    "    </font>\n",
    "  </div>"
   ]
  },
  {
   "cell_type": "markdown",
   "id": "df4d33be",
   "metadata": {},
   "source": [
    "<div style=\"margin-left: 25px;text-align: left; font-size: large;\" >\n",
    "    <font face=\"Arial\" style=\"font-size: large;\">\n",
    "      <table align=\"center\" style=\"text-align: left;\">\n",
    "        <tbody>\n",
    "          <tr bgcolor=\"#F7ECDE\">\n",
    "            <td style=\"text-align: left; font-size: medium;line-height: 30px;\">Es razonable esperar que los precios de las acciones en una bolsa de valores estén influenciados por los mismos factores. El ejemplo más obvio es el desarrollo de la economía en general.Las condiciones macroeconómicas favorables facilitan los negocios de todas las empresas y cuando las personas tienen trabajo y algo de dinero en sus bolsillos, gastarán más y las empresas se beneficiarán a medida que aumentan sus ingresos.</br> En una economía difícil, los consumidores reducen sus gastos y compran principalmente productos de primera importancia y debido a que los precios de las acciones están determinados por las ganancias, siempre que la economía esté bien, los precios de las acciones son mas altos y los inversores pagarán un alto precio por empresas rentables.</br> En tiempos de recesión, las ganancias de las empresas son menores y los precios de las acciones caen significativamente.</br>Sin embargo, las diferentes industrias se ven influenciadas de manera diferente, una situacion mas obvia seria analizar los impactos que tienen dos industrial distintas frente a un mismo hecho, sea este hecho una alza en los precios de hierro y acero y por ende de los vehiculos. Las personas no pueden dejar de comprar comida y comestibles, pero pueden posponer fácilmente la compra de un auto nuevo y continuar conduciendo un vehículo antiguo.</br> Por lo tanto, el estado de la economía impacta a diferentes industrias de manera diferente.</br>Es importante para un inversor que construye una cartera de acciones analizar este impacto, y continuando con el ejemplo anterior, imaginemos que un inversor tiene acciones de BMW, deberia comprar mas acciones de Mercedes Benz o de Wallmart?</br>Para poder determinar si hay alguna relación entre distintas industrias, vamos a utilizar dos conceptos, el primero de ellos es la covirianza y el segundo correlacion.</td>\n",
    "          </tr>\n",
    "        </tbody>\n",
    "      </table>\n",
    "    </font>\n",
    "  </div>"
   ]
  },
  {
   "cell_type": "markdown",
   "id": "81b41b28",
   "metadata": {},
   "source": [
    "<div style=\" text-align: left; font-size: large; margin-top: 50px;\" >\n",
    "        <font face=\"Arial\" style=\"font-size: large;\">\n",
    "          <table style=\"text-align: left;\">\n",
    "            <thead>\n",
    "              <th style=\"text-align: center; font-size: medium;\">Covarianza</th>\n",
    "              <th style=\"text-align: center; font-size: medium;\">Correlación</th>\n",
    "            </thead>\n",
    "            <tbody>\n",
    "              <tr bgcolor=\"#F7ECDE\">\n",
    "                <td style=\"text-align: left; font-size: medium;line-height: 30px; vertical-align: top;\">\n",
    "                    La covarianza es una medida de cuánto varían juntas dos variables aleatorias. Es similar a la varianza, pero donde la varianza te dice cómo varía una sola variable, la covarianza te dice cómo varían dos variables juntas.</br>\n",
    "                    <ul>\n",
    "                        <li>Si cov > 0: Ambas variables se mueven en la misma dirección</li>\n",
    "                        <li>Si cov < 0: Ambas variables se mueven en dirección opuesta</li>\n",
    "                        <li>Si cov = 0: Ambas variables son independientes</li>\n",
    "                    </ul>\n",
    "                    <a href=\"https://www.statisticshowto.com/probability-and-statistics/statistics-definitions/covariance/\">\n",
    "                    statisticshowto.com</a>\n",
    "                </td>\n",
    "                <td style=\"text-align: left; font-size: medium;line-height: 30px; vertical-align: top;\">\n",
    "                    El coeficiente de correlación es una medida estadística de la fuerza de la relación entre los movimientos relativos de dos variables. Los valores oscilan entre -1,0 y 1,0.\n",
    "                    <ul>\n",
    "                          <li>Si cor = 1: correlación positiva perfecta</li>\n",
    "                          <li>Si cor = -1: correlación negativa perfecta</li>\n",
    "                          <li>Si cor = 0: no existe una correlación</li>\n",
    "                    </ul>\n",
    "                    <a href=\"https://www.investopedia.com/terms/c/correlationcoefficient.asp\">\n",
    "                    investopedia.com</a>\n",
    "                </td>\n",
    "              </tr>\n",
    "            </tbody>\n",
    "          </table>\n",
    "        </font>\n",
    "      </div>"
   ]
  },
  {
   "cell_type": "markdown",
   "id": "e79264dd",
   "metadata": {},
   "source": [
    "\n",
    "\\begin{eqnarray*}\n",
    "Covariance Matrix: \\  \\   \n",
    "\\Sigma = \\begin{bmatrix}\n",
    "        \\sigma_{1}^2 \\ \\sigma_{12} \\ \\dots \\ \\sigma_{1I} \\\\\n",
    "        \\sigma_{21} \\ \\sigma_{2}^2 \\ \\dots \\ \\sigma_{2I} \\\\\n",
    "        \\vdots \\ \\vdots \\ \\ddots \\ \\vdots \\\\\n",
    "        \\sigma_{I1} \\ \\sigma_{I2} \\ \\dots \\ \\sigma_{I}^2\n",
    "    \\end{bmatrix}\n",
    "\\end{eqnarray*}"
   ]
  },
  {
   "cell_type": "markdown",
   "id": "0b73ed04",
   "metadata": {},
   "source": [
    "<div style=\"margin-left: 25px;text-align: left; font-size: large;\" >\n",
    "    <font face=\"Arial\" style=\"font-size: large;\">\n",
    "      <table align=\"center\" style=\"text-align: left;\">\n",
    "        <tbody>\n",
    "          <tr bgcolor=\"#F7ECDE\">\n",
    "            <td style=\"text-align: left; font-size: medium;line-height: 30px;\">Considere una cartera compuesta por *EOS* y *FileCoin*. ¿Espera que los rendimientos de estas empresas muestren una covarianza alta o baja? O, ¿podrías adivinar cuál sería la correlación? ¿Estará más cerca de 0 o más cerca de 1?</td>\n",
    "          </tr>\n",
    "        </tbody>\n",
    "      </table>\n",
    "    </font>\n",
    "  </div>"
   ]
  },
  {
   "cell_type": "code",
   "execution_count": 58,
   "id": "6949242f",
   "metadata": {},
   "outputs": [],
   "source": [
    "#Activos seleccionados\n",
    "activo_markowitz = ['EOS-USD','FIL-USD']"
   ]
  },
  {
   "cell_type": "code",
   "execution_count": 59,
   "id": "c2975e74",
   "metadata": {},
   "outputs": [
    {
     "name": "stdout",
     "output_type": "stream",
     "text": [
      "[*********************100%***********************]  2 of 2 completed\n"
     ]
    }
   ],
   "source": [
    "#Descargar la informacion para el periodo del 1 de enero del 2022 al 24 de Agosto de 2022. \n",
    "df1 = yf.download(activo_markowitz, '2022-01-01','2022-08-24')['Close']"
   ]
  },
  {
   "cell_type": "code",
   "execution_count": 60,
   "id": "56c2cba4",
   "metadata": {},
   "outputs": [
    {
     "data": {
      "text/html": [
       "<div>\n",
       "<style scoped>\n",
       "    .dataframe tbody tr th:only-of-type {\n",
       "        vertical-align: middle;\n",
       "    }\n",
       "\n",
       "    .dataframe tbody tr th {\n",
       "        vertical-align: top;\n",
       "    }\n",
       "\n",
       "    .dataframe thead th {\n",
       "        text-align: right;\n",
       "    }\n",
       "</style>\n",
       "<table border=\"1\" class=\"dataframe\">\n",
       "  <thead>\n",
       "    <tr style=\"text-align: right;\">\n",
       "      <th></th>\n",
       "      <th>EOS-USD</th>\n",
       "      <th>FIL-USD</th>\n",
       "    </tr>\n",
       "    <tr>\n",
       "      <th>Date</th>\n",
       "      <th></th>\n",
       "      <th></th>\n",
       "    </tr>\n",
       "  </thead>\n",
       "  <tbody>\n",
       "    <tr>\n",
       "      <th>2022-01-01</th>\n",
       "      <td>3.1355</td>\n",
       "      <td>35.8549</td>\n",
       "    </tr>\n",
       "    <tr>\n",
       "      <th>2022-01-02</th>\n",
       "      <td>3.2533</td>\n",
       "      <td>35.7926</td>\n",
       "    </tr>\n",
       "    <tr>\n",
       "      <th>2022-01-03</th>\n",
       "      <td>3.1926</td>\n",
       "      <td>35.0204</td>\n",
       "    </tr>\n",
       "    <tr>\n",
       "      <th>2022-01-04</th>\n",
       "      <td>3.1748</td>\n",
       "      <td>36.0986</td>\n",
       "    </tr>\n",
       "    <tr>\n",
       "      <th>2022-01-05</th>\n",
       "      <td>2.9066</td>\n",
       "      <td>33.2581</td>\n",
       "    </tr>\n",
       "    <tr>\n",
       "      <th>...</th>\n",
       "      <td>...</td>\n",
       "      <td>...</td>\n",
       "    </tr>\n",
       "    <tr>\n",
       "      <th>2022-08-20</th>\n",
       "      <td>1.4088</td>\n",
       "      <td>6.2491</td>\n",
       "    </tr>\n",
       "    <tr>\n",
       "      <th>2022-08-21</th>\n",
       "      <td>1.5689</td>\n",
       "      <td>6.4152</td>\n",
       "    </tr>\n",
       "    <tr>\n",
       "      <th>2022-08-22</th>\n",
       "      <td>1.8414</td>\n",
       "      <td>6.3185</td>\n",
       "    </tr>\n",
       "    <tr>\n",
       "      <th>2022-08-23</th>\n",
       "      <td>1.8070</td>\n",
       "      <td>6.3761</td>\n",
       "    </tr>\n",
       "    <tr>\n",
       "      <th>2022-08-24</th>\n",
       "      <td>1.7759</td>\n",
       "      <td>6.2764</td>\n",
       "    </tr>\n",
       "  </tbody>\n",
       "</table>\n",
       "<p>236 rows × 2 columns</p>\n",
       "</div>"
      ],
      "text/plain": [
       "            EOS-USD  FIL-USD\n",
       "Date                        \n",
       "2022-01-01   3.1355  35.8549\n",
       "2022-01-02   3.2533  35.7926\n",
       "2022-01-03   3.1926  35.0204\n",
       "2022-01-04   3.1748  36.0986\n",
       "2022-01-05   2.9066  33.2581\n",
       "...             ...      ...\n",
       "2022-08-20   1.4088   6.2491\n",
       "2022-08-21   1.5689   6.4152\n",
       "2022-08-22   1.8414   6.3185\n",
       "2022-08-23   1.8070   6.3761\n",
       "2022-08-24   1.7759   6.2764\n",
       "\n",
       "[236 rows x 2 columns]"
      ]
     },
     "execution_count": 60,
     "metadata": {},
     "output_type": "execute_result"
    }
   ],
   "source": [
    "df1"
   ]
  },
  {
   "cell_type": "code",
   "execution_count": 61,
   "id": "de0e9157",
   "metadata": {},
   "outputs": [],
   "source": [
    "#Se obtiene el retorno de forma logaritmica para cada activo. \n",
    "returns = np.log(df1 / df1.shift(1))"
   ]
  },
  {
   "cell_type": "code",
   "execution_count": 62,
   "id": "64adb8d7",
   "metadata": {},
   "outputs": [
    {
     "data": {
      "text/html": [
       "<div>\n",
       "<style scoped>\n",
       "    .dataframe tbody tr th:only-of-type {\n",
       "        vertical-align: middle;\n",
       "    }\n",
       "\n",
       "    .dataframe tbody tr th {\n",
       "        vertical-align: top;\n",
       "    }\n",
       "\n",
       "    .dataframe thead th {\n",
       "        text-align: right;\n",
       "    }\n",
       "</style>\n",
       "<table border=\"1\" class=\"dataframe\">\n",
       "  <thead>\n",
       "    <tr style=\"text-align: right;\">\n",
       "      <th></th>\n",
       "      <th>EOS-USD</th>\n",
       "      <th>FIL-USD</th>\n",
       "    </tr>\n",
       "    <tr>\n",
       "      <th>Date</th>\n",
       "      <th></th>\n",
       "      <th></th>\n",
       "    </tr>\n",
       "  </thead>\n",
       "  <tbody>\n",
       "    <tr>\n",
       "      <th>2022-01-01</th>\n",
       "      <td>NaN</td>\n",
       "      <td>NaN</td>\n",
       "    </tr>\n",
       "    <tr>\n",
       "      <th>2022-01-02</th>\n",
       "      <td>0.0369</td>\n",
       "      <td>-0.0017</td>\n",
       "    </tr>\n",
       "    <tr>\n",
       "      <th>2022-01-03</th>\n",
       "      <td>-0.0188</td>\n",
       "      <td>-0.0218</td>\n",
       "    </tr>\n",
       "    <tr>\n",
       "      <th>2022-01-04</th>\n",
       "      <td>-0.0056</td>\n",
       "      <td>0.0303</td>\n",
       "    </tr>\n",
       "    <tr>\n",
       "      <th>2022-01-05</th>\n",
       "      <td>-0.0883</td>\n",
       "      <td>-0.0820</td>\n",
       "    </tr>\n",
       "    <tr>\n",
       "      <th>...</th>\n",
       "      <td>...</td>\n",
       "      <td>...</td>\n",
       "    </tr>\n",
       "    <tr>\n",
       "      <th>2022-08-20</th>\n",
       "      <td>0.1007</td>\n",
       "      <td>-0.0351</td>\n",
       "    </tr>\n",
       "    <tr>\n",
       "      <th>2022-08-21</th>\n",
       "      <td>0.1076</td>\n",
       "      <td>0.0262</td>\n",
       "    </tr>\n",
       "    <tr>\n",
       "      <th>2022-08-22</th>\n",
       "      <td>0.1602</td>\n",
       "      <td>-0.0152</td>\n",
       "    </tr>\n",
       "    <tr>\n",
       "      <th>2022-08-23</th>\n",
       "      <td>-0.0189</td>\n",
       "      <td>0.0091</td>\n",
       "    </tr>\n",
       "    <tr>\n",
       "      <th>2022-08-24</th>\n",
       "      <td>-0.0173</td>\n",
       "      <td>-0.0158</td>\n",
       "    </tr>\n",
       "  </tbody>\n",
       "</table>\n",
       "<p>236 rows × 2 columns</p>\n",
       "</div>"
      ],
      "text/plain": [
       "            EOS-USD  FIL-USD\n",
       "Date                        \n",
       "2022-01-01      NaN      NaN\n",
       "2022-01-02   0.0369  -0.0017\n",
       "2022-01-03  -0.0188  -0.0218\n",
       "2022-01-04  -0.0056   0.0303\n",
       "2022-01-05  -0.0883  -0.0820\n",
       "...             ...      ...\n",
       "2022-08-20   0.1007  -0.0351\n",
       "2022-08-21   0.1076   0.0262\n",
       "2022-08-22   0.1602  -0.0152\n",
       "2022-08-23  -0.0189   0.0091\n",
       "2022-08-24  -0.0173  -0.0158\n",
       "\n",
       "[236 rows x 2 columns]"
      ]
     },
     "execution_count": 62,
     "metadata": {},
     "output_type": "execute_result"
    }
   ],
   "source": [
    "returns"
   ]
  },
  {
   "cell_type": "code",
   "execution_count": 58,
   "id": "9eb14097",
   "metadata": {},
   "outputs": [
    {
     "data": {
      "text/plain": [
       "EOS-USD   -0.6048\n",
       "FIL-USD   -1.8539\n",
       "dtype: float64"
      ]
     },
     "execution_count": 58,
     "metadata": {},
     "output_type": "execute_result"
    }
   ],
   "source": [
    "#Se anualizan los retornos para cada activo, y como son criptomonedas, utilizamos 365 días. \n",
    "both_means = returns[['EOS-USD', 'FIL-USD']].mean() * 365\n",
    "both_means"
   ]
  },
  {
   "cell_type": "code",
   "execution_count": 63,
   "id": "7dded6ed",
   "metadata": {},
   "outputs": [
    {
     "data": {
      "text/plain": [
       "EOS-USD   0.7925\n",
       "FIL-USD   0.9905\n",
       "dtype: float64"
      ]
     },
     "execution_count": 63,
     "metadata": {},
     "output_type": "execute_result"
    }
   ],
   "source": [
    "#Se anualizan las desviaciones estandar de cada uno de los activos. \n",
    "both_std = returns[['EOS-USD', 'FIL-USD']].std() * 252 ** 0.5\n",
    "both_std"
   ]
  },
  {
   "cell_type": "markdown",
   "id": "af2cebbf",
   "metadata": {},
   "source": [
    "<div style=\"margin-left: 25px;text-align: left; font-size: large;\" >\n",
    "    <font face=\"Arial\" style=\"font-size: large;\">\n",
    "      <table align=\"center\" style=\"text-align: left;\">\n",
    "        <tbody>\n",
    "          <tr bgcolor=\"#F7ECDE\">\n",
    "            <td style=\"text-align: left; font-size: medium;line-height: 30px;\">Para obtener la covarianza y la correlación de una serie de activos dados, simplemente llamamos al dataframe completo y utilizamos los métodos cov() y corr() respectivamente, y Python se encarga de realizar los cálculos respectivos. </td>\n",
    "          </tr>\n",
    "        </tbody>\n",
    "      </table>\n",
    "    </font>\n",
    "  </div>"
   ]
  },
  {
   "cell_type": "code",
   "execution_count": 60,
   "id": "57ce324e",
   "metadata": {},
   "outputs": [
    {
     "data": {
      "text/html": [
       "<div>\n",
       "<style scoped>\n",
       "    .dataframe tbody tr th:only-of-type {\n",
       "        vertical-align: middle;\n",
       "    }\n",
       "\n",
       "    .dataframe tbody tr th {\n",
       "        vertical-align: top;\n",
       "    }\n",
       "\n",
       "    .dataframe thead th {\n",
       "        text-align: right;\n",
       "    }\n",
       "</style>\n",
       "<table border=\"1\" class=\"dataframe\">\n",
       "  <thead>\n",
       "    <tr style=\"text-align: right;\">\n",
       "      <th></th>\n",
       "      <th>EOS-USD</th>\n",
       "      <th>FIL-USD</th>\n",
       "    </tr>\n",
       "  </thead>\n",
       "  <tbody>\n",
       "    <tr>\n",
       "      <th>EOS-USD</th>\n",
       "      <td>0.6230</td>\n",
       "      <td>0.5593</td>\n",
       "    </tr>\n",
       "    <tr>\n",
       "      <th>FIL-USD</th>\n",
       "      <td>0.5593</td>\n",
       "      <td>0.9732</td>\n",
       "    </tr>\n",
       "  </tbody>\n",
       "</table>\n",
       "</div>"
      ],
      "text/plain": [
       "         EOS-USD  FIL-USD\n",
       "EOS-USD   0.6230   0.5593\n",
       "FIL-USD   0.5593   0.9732"
      ]
     },
     "execution_count": 60,
     "metadata": {},
     "output_type": "execute_result"
    }
   ],
   "source": [
    "cov = returns.cov() * 250\n",
    "cov"
   ]
  },
  {
   "cell_type": "code",
   "execution_count": 61,
   "id": "3ac540b4",
   "metadata": {},
   "outputs": [
    {
     "data": {
      "text/html": [
       "<div>\n",
       "<style scoped>\n",
       "    .dataframe tbody tr th:only-of-type {\n",
       "        vertical-align: middle;\n",
       "    }\n",
       "\n",
       "    .dataframe tbody tr th {\n",
       "        vertical-align: top;\n",
       "    }\n",
       "\n",
       "    .dataframe thead th {\n",
       "        text-align: right;\n",
       "    }\n",
       "</style>\n",
       "<table border=\"1\" class=\"dataframe\">\n",
       "  <thead>\n",
       "    <tr style=\"text-align: right;\">\n",
       "      <th></th>\n",
       "      <th>EOS-USD</th>\n",
       "      <th>FIL-USD</th>\n",
       "    </tr>\n",
       "  </thead>\n",
       "  <tbody>\n",
       "    <tr>\n",
       "      <th>EOS-USD</th>\n",
       "      <td>1.0000</td>\n",
       "      <td>0.7183</td>\n",
       "    </tr>\n",
       "    <tr>\n",
       "      <th>FIL-USD</th>\n",
       "      <td>0.7183</td>\n",
       "      <td>1.0000</td>\n",
       "    </tr>\n",
       "  </tbody>\n",
       "</table>\n",
       "</div>"
      ],
      "text/plain": [
       "         EOS-USD  FIL-USD\n",
       "EOS-USD   1.0000   0.7183\n",
       "FIL-USD   0.7183   1.0000"
      ]
     },
     "execution_count": 61,
     "metadata": {},
     "output_type": "execute_result"
    }
   ],
   "source": [
    "cor = returns.corr() \n",
    "cor"
   ]
  },
  {
   "cell_type": "markdown",
   "id": "f94e80de",
   "metadata": {},
   "source": [
    "<div style=\"margin-left: 25px;text-align: left; font-size: large;\" >\n",
    "    <font face=\"Arial\" style=\"font-size: large;\">\n",
    "      <table align=\"center\" style=\"text-align: left;\">\n",
    "        <tbody>\n",
    "          <tr bgcolor=\"#F7ECDE\">\n",
    "            <td style=\"text-align: left; font-size: medium;line-height: 30px;\">Estrategias para mitigar Riesgo\n",
    "            </td>\n",
    "          </tr>\n",
    "        </tbody>\n",
    "      </table>\n",
    "    </font>\n",
    "  </div>"
   ]
  },
  {
   "cell_type": "markdown",
   "id": "51271579",
   "metadata": {},
   "source": [
    "<div style=\"margin-left: 25px;text-align: left; font-size: large;\" >\n",
    "    <font face=\"Arial\" style=\"font-size: large;\">\n",
    "      <table align=\"center\" style=\"text-align: left;\">\n",
    "        <tbody>\n",
    "          <tr bgcolor=\"#F7ECDE\">\n",
    "            <td style=\"text-align: left; font-size: medium;line-height: 30px;\">Una de las cuestiones más conocidas y palpables de las criptomonedas, es su volatilidad, como vimos en el ejemplo anterior con el bitcoin, para 2022 ha ido en caída libre perdiendo alrededor del 60% de su valor a inicios de 2021 y en términos generales el riesgo medido por la desviación estándar es mucho más alto para este tipo de activos, que para los del mercado bursátil, por ende estas son algunas de las estrategias que se pueden emplear para reducir el riesgo:\n",
    "              <ul>\n",
    "                  <li>Invertir dinero de reserva: Con todo lo que se habla de volatilidad, implica que hay un alto riesgo, por tanto, no se deben invertir todos los recursos, y solamente aquello que se esté dispuesto a perder. Entonces, cuando se decide invertir en criptomonedas, se debe utilizar el dinero que se mantenga personalmente como de reserva. Este dinero debe ser fondos que no necesita para satisfacer sus necesidades básicas. Tampoco se recomienda tomar un préstamo para invertir en criptoactivos. Los expertos aconsejan que invierta una pequeña cantidad durante un largo período de tiempo para obtener los mejores rendimientos. No tiene que invertir mucho dinero en total, aumente su inversión a medida que tenga más recursos de sobra.</li>\n",
    "                  <li>Invertir a través de fondos indexados: Otra estrategia es invertir en criptomonedas a través de fondos indexados. Un fondo indexado se refiere a una cartera de acciones diseñada para imitar la estructura de un índice del mercado financiero. Estos fondos se basan en el principio de que, a largo plazo, el mercado superará cualquier inversión. Al igual que las inversiones en los mercados financieros tradicionales, también puede usar fondos indexados para invertir en criptomonedas. Por ejemplo, hay fondos como Crypto10 y Crypto20, que exponen a los compradores a las 10 y 20 principales criptomonedas por capitalización de mercado, respectivamente.</li>\n",
    "                  <li>Hedging: Si no está seguro de en qué dirección cree que se dirigirá el activo, puede cubrir sus apuestas. La cobertura se refiere a una estrategia de inversión en la que realiza una operación principal en la dirección en la que espera que vaya el mercado y una operación secundaria en la dirección opuesta. La cobertura evitará que pierda, sin importar si el activo sube o baja de valor. Dicha estrategia se puede realizar teniendo en cuenta el índice de correlación expuesto en el apartado anterior, el cual debería ser cercano a -1 para poder proteger la inversión y mitigar el riesgo. </li>\n",
    "                  <li>Automatizar una estrategia: Este es particularmente el camino seleccionado en el presente trabajo, y además en este apartado se expondrá la teoría de selección de portafolio de Markowitz, la cual busca adaptar el perfil de riesgo de la inversión, y para tal propósito se expondrá un ejemplo con los activos SOLANA y DOGECOIN para la primera mitad del año 2021. </li>\n",
    "                  <li>La información se obtuvo de <a href='https://www.jumpstartmag.com/how-to-minimize-risks-when-investing-in-crypto/'>www.jumpstartmag.com.</a></li>\n",
    "                </ul></td>\n",
    "          </tr>\n",
    "        </tbody>\n",
    "      </table>\n",
    "    </font>\n",
    "  </div>"
   ]
  },
  {
   "cell_type": "markdown",
   "id": "fcf722d4",
   "metadata": {},
   "source": [
    "<div style=\"margin-left: 25px;text-align: left; font-size: large;\" >\n",
    "    <font face=\"Arial\" style=\"font-size: large;\">\n",
    "      <table align=\"center\" style=\"text-align: left;\">\n",
    "        <tbody>\n",
    "          <tr bgcolor=\"#F7ECDE\">\n",
    "            <td style=\"text-align: left; font-size: medium;line-height: 30px;\">Tomando los activos del ejemplo anterior y normalizando sus precios, podemos apreciar verdaderamente en un grafico su comportamiento en el tiempo estudiado:</td>\n",
    "          </tr>\n",
    "        </tbody>\n",
    "      </table>\n",
    "    </font>\n",
    "  </div>"
   ]
  },
  {
   "cell_type": "code",
   "execution_count": 65,
   "id": "685f8ab0",
   "metadata": {},
   "outputs": [],
   "source": [
    "#Se seleccionan los activos de DOGECOIN y Solana. \n",
    "activos_seleccionados = ['DOGE-USD','SOL-USD']"
   ]
  },
  {
   "cell_type": "code",
   "execution_count": 66,
   "id": "92a9080a",
   "metadata": {},
   "outputs": [
    {
     "name": "stdout",
     "output_type": "stream",
     "text": [
      "[*********************100%***********************]  2 of 2 completed\n"
     ]
    }
   ],
   "source": [
    "#Se descarga la información para la primera mitad del año 2021. \n",
    "df2 = yf.download(activos_seleccionados, '2021-01-01','2021-06-30')['Close']"
   ]
  },
  {
   "cell_type": "code",
   "execution_count": 67,
   "id": "c12c87ad",
   "metadata": {},
   "outputs": [],
   "source": [
    "#Se obtienen los retornos logaritmicos para cada una de las criptomonedas analizadas. \n",
    "retornos = np.log(df2 / df2.shift(1))"
   ]
  },
  {
   "cell_type": "code",
   "execution_count": 68,
   "id": "a04f2a2a",
   "metadata": {},
   "outputs": [
    {
     "data": {
      "text/html": [
       "<div>\n",
       "<style scoped>\n",
       "    .dataframe tbody tr th:only-of-type {\n",
       "        vertical-align: middle;\n",
       "    }\n",
       "\n",
       "    .dataframe tbody tr th {\n",
       "        vertical-align: top;\n",
       "    }\n",
       "\n",
       "    .dataframe thead th {\n",
       "        text-align: right;\n",
       "    }\n",
       "</style>\n",
       "<table border=\"1\" class=\"dataframe\">\n",
       "  <thead>\n",
       "    <tr style=\"text-align: right;\">\n",
       "      <th></th>\n",
       "      <th>DOGE-USD</th>\n",
       "      <th>SOL-USD</th>\n",
       "    </tr>\n",
       "    <tr>\n",
       "      <th>Date</th>\n",
       "      <th></th>\n",
       "      <th></th>\n",
       "    </tr>\n",
       "  </thead>\n",
       "  <tbody>\n",
       "    <tr>\n",
       "      <th>2021-01-01</th>\n",
       "      <td>0.0057</td>\n",
       "      <td>1.8421</td>\n",
       "    </tr>\n",
       "    <tr>\n",
       "      <th>2021-01-02</th>\n",
       "      <td>0.0106</td>\n",
       "      <td>1.7993</td>\n",
       "    </tr>\n",
       "    <tr>\n",
       "      <th>2021-01-03</th>\n",
       "      <td>0.0098</td>\n",
       "      <td>2.1618</td>\n",
       "    </tr>\n",
       "    <tr>\n",
       "      <th>2021-01-04</th>\n",
       "      <td>0.0098</td>\n",
       "      <td>2.4851</td>\n",
       "    </tr>\n",
       "    <tr>\n",
       "      <th>2021-01-05</th>\n",
       "      <td>0.0099</td>\n",
       "      <td>2.1572</td>\n",
       "    </tr>\n",
       "  </tbody>\n",
       "</table>\n",
       "</div>"
      ],
      "text/plain": [
       "            DOGE-USD  SOL-USD\n",
       "Date                         \n",
       "2021-01-01    0.0057   1.8421\n",
       "2021-01-02    0.0106   1.7993\n",
       "2021-01-03    0.0098   2.1618\n",
       "2021-01-04    0.0098   2.4851\n",
       "2021-01-05    0.0099   2.1572"
      ]
     },
     "execution_count": 68,
     "metadata": {},
     "output_type": "execute_result"
    }
   ],
   "source": [
    "df2.head()"
   ]
  },
  {
   "cell_type": "code",
   "execution_count": 69,
   "id": "3fb6339d",
   "metadata": {},
   "outputs": [
    {
     "data": {
      "text/html": [
       "<div>\n",
       "<style scoped>\n",
       "    .dataframe tbody tr th:only-of-type {\n",
       "        vertical-align: middle;\n",
       "    }\n",
       "\n",
       "    .dataframe tbody tr th {\n",
       "        vertical-align: top;\n",
       "    }\n",
       "\n",
       "    .dataframe thead th {\n",
       "        text-align: right;\n",
       "    }\n",
       "</style>\n",
       "<table border=\"1\" class=\"dataframe\">\n",
       "  <thead>\n",
       "    <tr style=\"text-align: right;\">\n",
       "      <th></th>\n",
       "      <th>DOGE-USD</th>\n",
       "      <th>SOL-USD</th>\n",
       "    </tr>\n",
       "    <tr>\n",
       "      <th>Date</th>\n",
       "      <th></th>\n",
       "      <th></th>\n",
       "    </tr>\n",
       "  </thead>\n",
       "  <tbody>\n",
       "    <tr>\n",
       "      <th>2021-06-26</th>\n",
       "      <td>0.2448</td>\n",
       "      <td>29.7129</td>\n",
       "    </tr>\n",
       "    <tr>\n",
       "      <th>2021-06-27</th>\n",
       "      <td>0.2645</td>\n",
       "      <td>31.9294</td>\n",
       "    </tr>\n",
       "    <tr>\n",
       "      <th>2021-06-28</th>\n",
       "      <td>0.2569</td>\n",
       "      <td>32.9278</td>\n",
       "    </tr>\n",
       "    <tr>\n",
       "      <th>2021-06-29</th>\n",
       "      <td>0.2628</td>\n",
       "      <td>33.8668</td>\n",
       "    </tr>\n",
       "    <tr>\n",
       "      <th>2021-06-30</th>\n",
       "      <td>0.2542</td>\n",
       "      <td>35.5564</td>\n",
       "    </tr>\n",
       "  </tbody>\n",
       "</table>\n",
       "</div>"
      ],
      "text/plain": [
       "            DOGE-USD  SOL-USD\n",
       "Date                         \n",
       "2021-06-26    0.2448  29.7129\n",
       "2021-06-27    0.2645  31.9294\n",
       "2021-06-28    0.2569  32.9278\n",
       "2021-06-29    0.2628  33.8668\n",
       "2021-06-30    0.2542  35.5564"
      ]
     },
     "execution_count": 69,
     "metadata": {},
     "output_type": "execute_result"
    }
   ],
   "source": [
    "df2.tail()"
   ]
  },
  {
   "cell_type": "code",
   "execution_count": 70,
   "id": "80cbe6a1",
   "metadata": {
    "scrolled": true
   },
   "outputs": [
    {
     "data": {
      "text/plain": [
       "<AxesSubplot:xlabel='Date'>"
      ]
     },
     "execution_count": 70,
     "metadata": {},
     "output_type": "execute_result"
    },
    {
     "data": {
      "image/png": "[encoded data removed]",
      "text/plain": [
       "<Figure size 720x360 with 1 Axes>"
      ]
     },
     "metadata": {
      "needs_background": "light"
     },
     "output_type": "display_data"
    }
   ],
   "source": [
    "#Se normalizan los precios para poder compararlos y se grafican. \n",
    "(df2 / df2.iloc[0] * 100).plot(figsize=(10,5))"
   ]
  },
  {
   "cell_type": "markdown",
   "id": "0aaf2ae9",
   "metadata": {},
   "source": [
    "<div style=\"margin-left: 25px;text-align: left; font-size: large;\" >\n",
    "    <font face=\"Arial\" style=\"font-size: large;\">\n",
    "      <table align=\"center\" style=\"text-align: left;\">\n",
    "        <tbody>\n",
    "          <tr bgcolor=\"#F7ECDE\">\n",
    "            <td style=\"text-align: left; font-size: medium;line-height: 30px;\">Dado que los activos del ejemplo anterior tiene una correlación positiva, es posible desarrollar una estrategia que logre mitigar el riesgo y se adapte mejor el perfil de riesgo del inversionista? La teoría de selección de portafolio de Markowitz dice que si:</td>\n",
    "          </tr>\n",
    "        </tbody>\n",
    "      </table>\n",
    "    </font>\n",
    "  </div>"
   ]
  },
  {
   "cell_type": "code",
   "execution_count": 71,
   "id": "7e7f3c8a",
   "metadata": {},
   "outputs": [],
   "source": [
    "#Determina el numero de activos a analizar en la teoria de seleccion de portafolio con miras a mitigar el riesgo. \n",
    "num_activos = len(activos_seleccionados)"
   ]
  },
  {
   "cell_type": "markdown",
   "id": "5cc21936",
   "metadata": {},
   "source": [
    "<div style=\"margin-left: 25px;text-align: left; font-size: large;\" >\n",
    "    <font face=\"Arial\" style=\"font-size: large;\">\n",
    "      <table align=\"center\" style=\"text-align: left;\">\n",
    "        <tbody>\n",
    "          <tr bgcolor=\"#F7ECDE\">\n",
    "            <td style=\"text-align: left; font-size: medium;line-height: 30px;\">Una vez que se determina la cantidad de activos que se poseen en el portafolio, se debe determinar el peso de cada uno de estos activos dentro de la composición total del portafolio, es decir, su peso porcentual:</td>\n",
    "          </tr>\n",
    "        </tbody>\n",
    "      </table>\n",
    "    </font>\n",
    "  </div>"
   ]
  },
  {
   "cell_type": "code",
   "execution_count": 72,
   "id": "6f9d8202",
   "metadata": {},
   "outputs": [
    {
     "data": {
      "text/plain": [
       "array([0.306037, 0.693963])"
      ]
     },
     "execution_count": 72,
     "metadata": {},
     "output_type": "execute_result"
    }
   ],
   "source": [
    "#Determina aleatoriamente un peso relativo para cada uno de los activos que se analizaran en la teoria de portafolio.\n",
    "pesos = np.random.random(num_activos)\n",
    "pesos /= np.sum(pesos)\n",
    "pesos"
   ]
  },
  {
   "cell_type": "markdown",
   "id": "7353894d",
   "metadata": {},
   "source": [
    "<div style=\"margin-left: 25px;text-align: left; font-size: large;\" >\n",
    "    <font face=\"Arial\" style=\"font-size: large;\">\n",
    "      <table align=\"center\" style=\"text-align: left;\">\n",
    "        <tbody>\n",
    "          <tr bgcolor=\"#F7ECDE\">\n",
    "            <td style=\"text-align: left; font-size: medium;line-height: 30px;\">Por tanto, del ejemplo anterior, al utilizar una composición aleatoria, podemos ver que el primer activo tiene un peso de alrededor de 31% y el segundo de 69%. </td>\n",
    "          </tr>\n",
    "        </tbody>\n",
    "      </table>\n",
    "    </font>\n",
    "  </div>"
   ]
  },
  {
   "cell_type": "code",
   "execution_count": 73,
   "id": "bbc4725e",
   "metadata": {},
   "outputs": [
    {
     "data": {
      "text/plain": [
       "1.0"
      ]
     },
     "execution_count": 73,
     "metadata": {},
     "output_type": "execute_result"
    }
   ],
   "source": [
    "#Determinar que efectivamente el paso anterior asigno el 100% de los pesos relativos de ambos activos\n",
    "np.sum(pesos)"
   ]
  },
  {
   "cell_type": "markdown",
   "id": "41fbb683",
   "metadata": {},
   "source": [
    "<div style=\"margin-left: 25px;text-align: left; font-size: large;\" >\n",
    "    <font face=\"Arial\" style=\"font-size: large;\">\n",
    "      <table align=\"center\" style=\"text-align: left;\">\n",
    "        <tbody>\n",
    "          <tr bgcolor=\"#F7ECDE\">\n",
    "            <td style=\"text-align: left; font-size: medium;line-height: 30px;\">Como se puede observar, obtenemos el 100% de nuestros activos, e independientemente del número de activos que se analicen, el resultado siempre debería ser 100%, ya que de lo contrario indicaría que se está realizando el procedimiento y el análisis de manera incorrecta. Ahora, para poder sacar provecho de la teoría de Markowitz necesitamos simular al menos 1000 escenarios de distintas composiciones de los activos analizados, ya que, esto nos brindara una frontera de posibilidades entre riesgo y rendimiento, de la cual el inversionista puede seleccionar la que mejor se adapte a su perfil subjetivo de riesgo:</td>\n",
    "          </tr>\n",
    "        </tbody>\n",
    "      </table>\n",
    "    </font>\n",
    "  </div>"
   ]
  },
  {
   "cell_type": "code",
   "execution_count": 75,
   "id": "a5f83b3c",
   "metadata": {},
   "outputs": [],
   "source": [
    "#Se crean dos arrays para guardar el retorno y la desviación estandar de cada una de las combinaciones\n",
    "\n",
    "pfolio_retorno = []\n",
    "pfolio_volatilidad = []\n",
    "pesos\n",
    "#Se generara un loop de 1000 escenarios\n",
    "for x in range(1000):\n",
    "    #se genera un peso aleatorio y relativo para cada activo y para cada escenario.\n",
    "    pesos = np.random.random(num_activos)\n",
    "    pesos /= np.sum(pesos)\n",
    "    #se guarda en el array de retorno el peso por retorno del escenario en curso. \n",
    "    pfolio_retorno.append(np.sum(pesos * retornos.mean()) * 365)\n",
    "    #se guarda el riesgo del escenario en curso. \n",
    "    pfolio_volatilidad.append(np.sqrt(np.dot(pesos.T, np.dot(retornos.cov()*250,pesos)))) \n",
    "    \n",
    "pfolio_retorno = np.array(pfolio_retorno)\n",
    "pfolio_volatilidad =np.array(pfolio_volatilidad)"
   ]
  },
  {
   "cell_type": "markdown",
   "id": "88000fa6",
   "metadata": {},
   "source": [
    "<div style=\"margin-left: 25px;text-align: left; font-size: large;\" >\n",
    "    <font face=\"Arial\" style=\"font-size: large;\">\n",
    "      <table align=\"center\" style=\"text-align: left;\">\n",
    "        <tbody>\n",
    "          <tr bgcolor=\"#F7ECDE\">\n",
    "            <td style=\"text-align: left; font-size: medium;line-height: 30px;\">Riesgo del portafolio\n",
    "            </td>\n",
    "          </tr>\n",
    "        </tbody>\n",
    "      </table>\n",
    "    </font>\n",
    "  </div>"
   ]
  },
  {
   "cell_type": "markdown",
   "id": "0be02c77",
   "metadata": {},
   "source": [
    "<div style=\"margin-left: 25px;text-align: left; font-size: large;\" >\n",
    "    <font face=\"Arial\" style=\"font-size: large;\">\n",
    "      <table align=\"center\" style=\"text-align: left;\">\n",
    "        <tbody>\n",
    "          <tr bgcolor=\"#F7ECDE\">\n",
    "            <td style=\"text-align: left; font-size: medium;line-height: 30px;\">En esta sección, voy a descomponer la fórmula que se utilizó para obtener la volatilidad de portafolio, porque se puede apreciar como compleja. El primer paso es obtener los pesos relativos de la composición del portafolio para cada activo:</td>\n",
    "          </tr>\n",
    "        </tbody>\n",
    "      </table>\n",
    "    </font>\n",
    "  </div>"
   ]
  },
  {
   "cell_type": "code",
   "execution_count": 104,
   "id": "a9f93bc4",
   "metadata": {},
   "outputs": [
    {
     "data": {
      "text/plain": [
       "array([0.83740919, 0.16259081])"
      ]
     },
     "execution_count": 104,
     "metadata": {},
     "output_type": "execute_result"
    }
   ],
   "source": [
    "pesos"
   ]
  },
  {
   "cell_type": "markdown",
   "id": "cca025b4",
   "metadata": {},
   "source": [
    "<div style=\"margin-left: 25px;text-align: left; font-size: large;\" >\n",
    "    <font face=\"Arial\" style=\"font-size: large;\">\n",
    "      <table align=\"left\" style=\"text-align: left;\">\n",
    "        <tbody>\n",
    "          <tr bgcolor=\"#F7ECDE\">\n",
    "            <td style=\"text-align: left; font-size: medium;line-height: 30px;\">Seguidamente se anualiza la covarianza de los activos a analizar:</td>\n",
    "          </tr>\n",
    "        </tbody>\n",
    "      </table>\n",
    "    </font>\n",
    "  </div"
   ]
  },
  {
   "cell_type": "code",
   "execution_count": 105,
   "id": "c3a815e4",
   "metadata": {
    "scrolled": true
   },
   "outputs": [
    {
     "data": {
      "text/html": [
       "<div>\n",
       "<style scoped>\n",
       "    .dataframe tbody tr th:only-of-type {\n",
       "        vertical-align: middle;\n",
       "    }\n",
       "\n",
       "    .dataframe tbody tr th {\n",
       "        vertical-align: top;\n",
       "    }\n",
       "\n",
       "    .dataframe thead th {\n",
       "        text-align: right;\n",
       "    }\n",
       "</style>\n",
       "<table border=\"1\" class=\"dataframe\">\n",
       "  <thead>\n",
       "    <tr style=\"text-align: right;\">\n",
       "      <th></th>\n",
       "      <th>DOGE-USD</th>\n",
       "      <th>SOL-USD</th>\n",
       "    </tr>\n",
       "  </thead>\n",
       "  <tbody>\n",
       "    <tr>\n",
       "      <th>DOGE-USD</th>\n",
       "      <td>8.1361</td>\n",
       "      <td>0.7263</td>\n",
       "    </tr>\n",
       "    <tr>\n",
       "      <th>SOL-USD</th>\n",
       "      <td>0.7263</td>\n",
       "      <td>2.5430</td>\n",
       "    </tr>\n",
       "  </tbody>\n",
       "</table>\n",
       "</div>"
      ],
      "text/plain": [
       "          DOGE-USD  SOL-USD\n",
       "DOGE-USD    8.1361   0.7263\n",
       "SOL-USD     0.7263   2.5430"
      ]
     },
     "execution_count": 105,
     "metadata": {},
     "output_type": "execute_result"
    }
   ],
   "source": [
    "returnos.cov()*250"
   ]
  },
  {
   "cell_type": "markdown",
   "id": "52b26cab",
   "metadata": {},
   "source": [
    "<div style=\"margin-left: 25px;text-align: left; font-size: large;\" >\n",
    "    <font face=\"Arial\" style=\"font-size: large;\">\n",
    "      <table align=\"left\" style=\"text-align: left;\">\n",
    "        <tbody>\n",
    "          <tr bgcolor=\"#F7ECDE\">\n",
    "            <td style=\"text-align: left; font-size: medium;line-height: 30px;\">EL método .dot lo que realiza es una multiplicación de matrices como se puede observar en el siguiente ejemplo básico, además se agrega una referencia para entender la manera en que funciona, ya que es la primera y única vez que se utiliza dentro de todo el código:</td>\n",
    "          </tr>\n",
    "        </tbody>\n",
    "      </table>\n",
    "    </font>\n",
    "  </div"
   ]
  },
  {
   "cell_type": "code",
   "execution_count": 76,
   "id": "1f567337",
   "metadata": {},
   "outputs": [
    {
     "data": {
      "text/plain": [
       "array([[37],\n",
       "       [85]])"
      ]
     },
     "execution_count": 76,
     "metadata": {},
     "output_type": "execute_result"
    }
   ],
   "source": [
    "a = np.array([[1,2],[3,4]]) \n",
    "b = np.array([[11],[13]]) \n",
    "np.dot(a,b)"
   ]
  },
  {
   "cell_type": "code",
   "execution_count": 77,
   "id": "b16b869d",
   "metadata": {},
   "outputs": [
    {
     "data": {
      "text/plain": [
       "[[37], [85]]"
      ]
     },
     "execution_count": 77,
     "metadata": {},
     "output_type": "execute_result"
    }
   ],
   "source": [
    "[[1*11+2*13],[3*11+4*13]]"
   ]
  },
  {
   "cell_type": "markdown",
   "id": "4ded0547",
   "metadata": {},
   "source": [
    "<div style=\"margin-left: 25px;text-align: left; font-size: large;\" >\n",
    "    <font face=\"Arial\" style=\"font-size: large;\">\n",
    "      <table align=\"left\" style=\"text-align: left;\">\n",
    "        <tbody>\n",
    "          <tr bgcolor=\"#F7ECDE\">\n",
    "            <td style=\"text-align: left; font-size: medium;line-height: 30px;\"><a href='https://www.tutorialspoint.com/numpy/numpy_dot.htm'>np.dot</a></td>\n",
    "          </tr>\n",
    "        </tbody>\n",
    "      </table>\n",
    "    </font>\n",
    "  </div>"
   ]
  },
  {
   "cell_type": "markdown",
   "id": "6cae7d10",
   "metadata": {},
   "source": [
    "<div style=\"margin-left: 25px;text-align: left; font-size: large;\" >\n",
    "    <font face=\"Arial\" style=\"font-size: large;\">\n",
    "      <table align=\"left\" style=\"text-align: left;\">\n",
    "        <tbody>\n",
    "          <tr bgcolor=\"#F7ECDE\">\n",
    "            <td style=\"text-align: left; font-size: medium;line-height: 30px;\">Ahora que se sabe cada paso que se utilizó para poder obtener el riesgo del portafolio, es necesario unir tanto el rendimiento como la volatilidad dentro un mismo dataframe, para poder graficar la frontera de posibilidades que expone la teoría de portafolio de Markowitz. Como se puede ver, esta unión se da en la variable llamada \"portafolios\" y seguidamente se grafica la misma:</td>\n",
    "          </tr>\n",
    "        </tbody>\n",
    "      </table>\n",
    "    </font>\n",
    "  </div>"
   ]
  },
  {
   "cell_type": "code",
   "execution_count": 78,
   "id": "471179cb",
   "metadata": {},
   "outputs": [
    {
     "data": {
      "text/html": [
       "<div>\n",
       "<style scoped>\n",
       "    .dataframe tbody tr th:only-of-type {\n",
       "        vertical-align: middle;\n",
       "    }\n",
       "\n",
       "    .dataframe tbody tr th {\n",
       "        vertical-align: top;\n",
       "    }\n",
       "\n",
       "    .dataframe thead th {\n",
       "        text-align: right;\n",
       "    }\n",
       "</style>\n",
       "<table border=\"1\" class=\"dataframe\">\n",
       "  <thead>\n",
       "    <tr style=\"text-align: right;\">\n",
       "      <th></th>\n",
       "      <th>Retorno</th>\n",
       "      <th>Volatilidad</th>\n",
       "    </tr>\n",
       "  </thead>\n",
       "  <tbody>\n",
       "    <tr>\n",
       "      <th>0</th>\n",
       "      <td>6.6677</td>\n",
       "      <td>1.5908</td>\n",
       "    </tr>\n",
       "    <tr>\n",
       "      <th>1</th>\n",
       "      <td>6.0382</td>\n",
       "      <td>1.5720</td>\n",
       "    </tr>\n",
       "    <tr>\n",
       "      <th>2</th>\n",
       "      <td>6.6058</td>\n",
       "      <td>1.5534</td>\n",
       "    </tr>\n",
       "    <tr>\n",
       "      <th>3</th>\n",
       "      <td>6.7068</td>\n",
       "      <td>1.6178</td>\n",
       "    </tr>\n",
       "    <tr>\n",
       "      <th>4</th>\n",
       "      <td>6.5449</td>\n",
       "      <td>1.5236</td>\n",
       "    </tr>\n",
       "  </tbody>\n",
       "</table>\n",
       "</div>"
      ],
      "text/plain": [
       "   Retorno  Volatilidad\n",
       "0   6.6677       1.5908\n",
       "1   6.0382       1.5720\n",
       "2   6.6058       1.5534\n",
       "3   6.7068       1.6178\n",
       "4   6.5449       1.5236"
      ]
     },
     "execution_count": 78,
     "metadata": {},
     "output_type": "execute_result"
    }
   ],
   "source": [
    "#Se unen ambos arrays, el de retornos y el de riesgo para poder graficar la frontera de posiblidades de ambos activos. \n",
    "portfolios = pd.DataFrame({'Retorno':pfolio_retorno, 'Volatilidad':pfolio_volatilidad})\n",
    "portfolios.head()"
   ]
  },
  {
   "cell_type": "code",
   "execution_count": 79,
   "id": "f6401dae",
   "metadata": {},
   "outputs": [
    {
     "data": {
      "text/plain": [
       "Text(0, 0.5, 'Retorno Esperado')"
      ]
     },
     "execution_count": 79,
     "metadata": {},
     "output_type": "execute_result"
    },
    {
     "data": {
      "image/png": "[encoded data removed]",
      "text/plain": [
       "<Figure size 720x432 with 1 Axes>"
      ]
     },
     "metadata": {
      "needs_background": "light"
     },
     "output_type": "display_data"
    }
   ],
   "source": [
    "portfolios.plot(x='Volatilidad', y='Retorno', kind='scatter', figsize=(10,6))\n",
    "plt.xlabel('Riesgo Esperado')\n",
    "plt.ylabel('Retorno Esperado')"
   ]
  },
  {
   "cell_type": "markdown",
   "id": "166579cd",
   "metadata": {},
   "source": [
    "<div style=\"margin-left: 25px;text-align: left; font-size: large;\" >\n",
    "    <font face=\"Arial\" style=\"font-size: large;\">\n",
    "      <table align=\"left\" style=\"text-align: left;\">\n",
    "        <tbody>\n",
    "          <tr bgcolor=\"#F7ECDE\">\n",
    "            <td style=\"text-align: left; font-size: medium;line-height: 30px;\">Se puede observar ahora si la frontera de eficiencia, que representa las combinaciones óptimas de rendimiento y riesgo descritas por las fórmulas antes planteadas, por lo que se puede concluir que estas combinaciones aseguran, mediante un proceso optimizador, cuál es el portafolio con el mayor rendimiento dado un nivel de riesgo, o bien, el mínimo riesgo dado un rendimiento esperado. </br></br>La gráfica generada por esta relación entre rendimiento y riesgo es también llamada curva de transformación de riesgo por rendimiento, pues describe la forma en la cual el inversionista puede intercambiar rendimiento por riesgo de una manera eficiente, es decir, cumpliendo el objetivo de maximizar el rendimiento sujeto a un nivel de riesgo, o minimizar este sujeto a un nivel de rendimiento</br></br> Basado en lo anterior, si vemos de nuevo el gráfico, en los puntos señalados, vemos como ambos puntos tienen el mismo nivel de riesgo, pero distinto rendimiento, por lo tanto, ningún inversionista racional seleccionaría el punto inferior, ya que brinda el mismo riesgo con menos rendimiento, y lo racional sería seleccionar el punto superior, ya que, este es el optimizado para esa combinación de riesgo y rendimiento. <img src='Frontera_Eficiencia.JPG' width='350' margin='auto'></td>\n",
    "          </tr>\n",
    "        </tbody>\n",
    "      </table>\n",
    "    </font>\n",
    "  </div"
   ]
  },
  {
   "cell_type": "markdown",
   "id": "d350b304",
   "metadata": {},
   "source": [
    "<div style=\"margin-left: 25px;text-align: left; font-size: large;\" >\n",
    "    <font face=\"Arial\" style=\"font-size: large;\">\n",
    "      <table align=\"center\" style=\"text-align: left;\">\n",
    "        <tbody>\n",
    "          <tr bgcolor=\"#F7ECDE\">\n",
    "            <td style=\"text-align: left; font-size: medium;line-height: 30px;\">Normativa Criptomonedas, a donde se dirige?\n",
    "            </td>\n",
    "          </tr>\n",
    "        </tbody>\n",
    "      </table>\n",
    "    </font>\n",
    "  </div>"
   ]
  },
  {
   "cell_type": "markdown",
   "id": "9d860d75",
   "metadata": {},
   "source": [
    "<div style=\"margin-left: 25px;text-align: left; font-size: large;\" >\n",
    "    <font face=\"Arial\" style=\"font-size: large;\">\n",
    "      <table align=\"center\" style=\"text-align: left;\">\n",
    "        <tbody>\n",
    "          <tr bgcolor=\"#F7ECDE\">\n",
    "            <td style=\"text-align: left; font-size: medium;line-height: 30px;\">La descripción del trabajo de la SEC cuando se trata de regular las criptomonedas es amorfa. El principal regulador de Wall Street supervisa los valores y, hasta hace poco, era difícil lograr que el presidente Gary Gensler determinara cuáles de las más de 19 500 criptomonedas caían bajo su jurisdicción, en comparación con los tokens de productos básicos, que sería mejor dejarlos en manos de los encargados de hacer cumplir la ley en la \"Commodity Futures Trading Commission\".\n",
    "Pero en un testimonio reciente ante el Comité de Asignaciones de la Cámara, Gensler ofreció algo de claridad al decir que la SEC tiene jurisdicción \"probablemente sobre una gran cantidad\" de las criptomonedas en circulación. El jefe de la SEC también admitió que Bitcoin \"tal vez\" no estaba bajo su competencia.\n",
    "La reciente opinión de Gensler sobre la jurisdicción reguladora de bitcoin va en paralelo con el exjefe de la SEC, Jay Clayton, quien dijo anteriormente que las criptomonedas son \"reemplazos de las monedas soberanas\", y si \"reemplazas el dólar, el euro, el yen con bitcoin... tipo de moneda no es un valor”. La SEC ha pasado los últimos meses reforzando su lista y ampliando su competencia con respecto a la regulación de activos digitales.\n",
    "\n",
    "En abril, Gensler dijo que el principal regulador de Wall Street planea registrar y regular las criptoplataformas y, a principios de este mes, la agencia anunció que casi duplicaría el personal responsable de proteger a los inversores en los mercados de criptomonedas, elevando su equipo de criptoactivos y cibernéticos a 50 personas dedicadas. posiciones.\n",
    "\n",
    "Gensler también les dijo recientemente a los legisladores de la Cámara que las reglas son “en realidad bastante claras”. Si está recaudando dinero del público y el público anticipa una ganancia basada en los esfuerzos de ese patrocinador, eso es una seguridad, según el presidente de la SEC. Gensler dice que difiere de un producto básico, que carece de un emisor y tampoco tiene un comprador público que anticipe un retorno basado en los esfuerzos de la única parte detrás del producto.<a href=\"https://www.cnbc.com/2022/05/25/secs-hester-peirce-us-dropped-the-ball-on-crypto-regulation.html\">cnbc.com</a>\n",
    "              \n",
    "Al determinar si un activo digital es un valor, la SEC considera si el activo constituye un \"contrato de inversión\". Para que un activo se considere un contrato de inversión, debe cumplir con los tres criterios de la Prueba de Howey, que se desarrolló y se nombró a partir del caso de la Corte Suprema SEC v. W.J. Howey Co., 328 U.S. 293 (1946). La Prueba de Howey requiere que debe haber (1) la inversión de dinero (2) en una empresa común (3) con una expectativa razonable de ganancias derivadas de los esfuerzos de otros.\n",
    "\n",
    "Haciéndose eco de los sentimientos de su predecesor, el actual presidente de la SEC, Gary Gensler, reiteró a CNBC en agosto de 2021 que la SEC considera que muchas monedas y tokens de criptomonedas son valores bajo la prueba de Howey, diciendo: \"Si alguien está recaudando dinero vendiendo un token y el comprador anticipa ganancias basado en los esfuerzos de ese grupo para patrocinar al vendedor, eso encaja en algo que es un valor\" (\"El presidente de la SEC, Gary Gensler, sobre su visión para la regulación de las criptomonedas\" 4 de agosto de 2021).\n",
    "              \n",
    "La SEC ya ha librado varias batallas legales exitosas contra los creadores y plataformas de criptomonedas en este frente. Estos casos dan una idea de lo que probablemente vendrá. Por ejemplo, en junio de 2019, la SEC presentó una demanda en el Distrito Sur de Nueva York contra Kik Interactive Inc. que, en 2017, vendió un billón de sus tokens digitales denominados \"Kin\" (SEC v. Kik Interactive Inc., 1 :19-cv-05244). Kik afirmó que los fondos de la oferta ayudarían a crear un \"Ecosistema Kin\" que giraría en torno a su nuevo token y aumentaría su valor. Después de que Kik recaudara casi 100 millones de dólares de los inversores, la SEC posteriormente acusó a Kik de violar la Sección 5 de la Ley de Valores de 1933, alegando que los tokens de Kin deberían haberse registrado como valores y acompañados de las divulgaciones adecuadas para los inversores.\n",
    "\n",
    "La SEC argumentó con éxito que, según la prueba de Howey, la oferta de Kik cumplía con los tres criterios para un contrato de inversión: el dinero se había invertido en una sola oferta integrada con la expectativa de los inversores de ver un rendimiento generado por los proyectos futuros de Kik. El 30 de septiembre de 2020, el tribunal se puso del lado de la SEC, concedió la moción de la comisión de juicio sumario y exigió a Kik pagar una multa de $5 millones. <a href=\"https://www.reuters.com/legal/transactional/are-cryptocurrencies-securities-sec-is-answering-question-2022-03-21/\">reuters.com</a>\n",
    "\n",
    "Otro enfoque probable para los reguladores es la proliferación de monedas estables, tokens de cadena de bloques cuyo valor está vinculado al dólar u otra moneda fiduciaria. La mayoría de las monedas estables respaldan su vinculación manteniendo grandes reservas de efectivo, bonos del Tesoro u otros activos de bajo riesgo.\n",
    "\n",
    "El colapso de mayo de 2022 de la moneda estable algorítmica Terra (UST) ha aumentado las preocupaciones sobre otras monedas estables y su regulación. Los patrocinadores de Tether (USDT), la moneda estable más grande, pagaron 18,5 millones en un acuerdo con el Fiscal General de Nueva York en 2021 e incurrieron en una multa de 41 millones por parte de la Comisión de Comercio de Futuros de Productos Básicos el mismo año por acusaciones de que tergiversaron sus reservas.Tether ahora publica detalles limitados sobre sus tenencias de reservas diariamente.\n",
    "\"¿Qué respalda estos tokens para que podamos asegurarnos de que estas tenencias realmente se puedan convertir a dólares uno a uno?\" preguntó Gensler en abril de 2022. Las monedas estables pueden presentar riesgos sistémicos para el ecosistema criptográfico y más allá al tiempo que facilitan el lavado de dinero y la evasión de sanciones, agregó el presidente de la SEC. <a href=\"https://www.investopedia.com/news/how-sec-regs-will-change-cryptocurrency-markets/\">Investopedia.com</a></td>\n",
    "          </tr>\n",
    "        </tbody>\n",
    "      </table>\n",
    "    </font>\n",
    "  </div>"
   ]
  },
  {
   "cell_type": "markdown",
   "id": "336a9586",
   "metadata": {},
   "source": [
    "<div style=\"margin-left: 25px;text-align: left; font-size: large;\" >\n",
    "    <font face=\"Arial\" style=\"font-size: large;\">\n",
    "      <table align=\"center\" style=\"text-align: left;\">\n",
    "        <tbody>\n",
    "          <tr bgcolor=\"#F7ECDE\">\n",
    "            <td style=\"text-align: left; font-size: medium;line-height: 30px;\">Estrategia de compra de activo en Binance. \n",
    "            </td>\n",
    "          </tr>\n",
    "        </tbody>\n",
    "      </table>\n",
    "    </font>\n",
    "  </div>"
   ]
  },
  {
   "cell_type": "markdown",
   "id": "1e74fc15",
   "metadata": {},
   "source": [
    "<div style=\"margin-left: 25px;text-align: left; font-size: large;\" >\n",
    "    <font face=\"Arial\" style=\"font-size: large;\">\n",
    "      <table align=\"left\" style=\"text-align: left;\">\n",
    "        <tbody>\n",
    "          <tr bgcolor=\"#F7ECDE\">\n",
    "            <td style=\"text-align: left; font-size: medium;line-height: 30px;\">Una estrategia de inversión es \"un plan de actuación en los mercados financieros para lograr rentabilidad. Se tienen en cuenta factores como el riesgo y la naturaleza de las inversiones.\" <a href=\"https://economipedia.com/definiciones/estrategia-de-inversion.html\">economipedia.com</a>. </br></br> Basado en esta definición, la estrategia a realizar en el presente apartado buscará determinar relaciones entre el volumen transado y el rendimiento de dicho activo, por lo cual basado en el análisis de ambos factores, podremos determinar cuando tomar una posición 'SHORT' (de venta del activo) o una posición 'LONG' (de compra del activo). <a href=\"https://www.daytradetheworld.com/trading-blog/volume-price-analysis-for-traders/#:~:text=The%20key%20principle%20when%20doing,way%20to%20confirm%20chart%20patterns.\">daytradetheworld.com</a></br></br>Para realizar la presente estrategia se importarán las siguientes clases: <ul><li>BackTest_Class: que básicamente realiza el 'backtesting' de nuestro activo. El backtesting es \"el método general para ver qué tan bien habría funcionado una estrategia o modelo ex-post. El backtesting evalúa la viabilidad de una estrategia comercial al descubrir cómo se desarrollaría utilizando datos históricos. Si el backtesting funciona, los comerciantes y analistas pueden tener la confianza para emplearlo en el futuro.\"<a href=\"https://www.investopedia.com/terms/b/backtesting.asp\">Investopedia.com</a></li><li>Trading_Class: Esta clase va a controlar el flujo de las distintas posiciones que se van a tomar en un periodo de tiempo determinado o en una cantidad de compra/venta determinada. Es decir, esta clase es la que controla en tiempo real si se compra o se vende el activo, además de cuantas veces se va a vender o comprar, y bajo que condiciones se van a realizar dichas transacciones. </li></ul>Por lo tanto, se procederá a explicar cada clase por separado, con anotaciones en cada una de ellas que explican la naturaleza del código y lo hacen comprensible para el lector. Con base en lo anteriormente descrito, se importarán ambas clases:</td>\n",
    "          </tr>\n",
    "        </tbody>\n",
    "      </table>\n",
    "    </font>\n",
    "  </div>"
   ]
  },
  {
   "cell_type": "markdown",
   "id": "cd26895b",
   "metadata": {},
   "source": [
    "<div style=\"margin-left: 25px;text-align: left; font-size: large;\" >\n",
    "    <font face=\"Arial\" style=\"font-size: large;\">\n",
    "      <table align=\"center\" style=\"text-align: left;\">\n",
    "        <tbody>\n",
    "          <tr bgcolor=\"#F7ECDE\">\n",
    "            <td style=\"text-align: left; font-size: medium;line-height: 30px;\">Favor referirse al Jupyter Notebook llamado \"Strategy_Python\", ya que este contiene todos los procedimientos y llamados a clases respectivos.  \n",
    "            </td>\n",
    "          </tr>\n",
    "        </tbody>\n",
    "      </table>\n",
    "    </font>\n",
    "  </div>"
   ]
  }
 ],
 "metadata": {
  "kernelspec": {
   "display_name": "Python 3 (ipykernel)",
   "language": "python",
   "name": "python3"
  },
  "language_info": {
   "codemirror_mode": {
    "name": "ipython",
    "version": 3
   },
   "file_extension": ".py",
   "mimetype": "text/x-python",
   "name": "python",
   "nbconvert_exporter": "python",
   "pygments_lexer": "ipython3",
   "version": "3.9.13"
  },
  "toc-autonumbering": false,
  "toc-showcode": false,
  "toc-showmarkdowntxt": false,
  "toc-showtags": true
 },
 "nbformat": 4,
 "nbformat_minor": 5
}
